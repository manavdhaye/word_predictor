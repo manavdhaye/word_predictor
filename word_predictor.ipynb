{
  "nbformat": 4,
  "nbformat_minor": 0,
  "metadata": {
    "colab": {
      "provenance": [],
      "gpuType": "T4"
    },
    "kernelspec": {
      "name": "python3",
      "display_name": "Python 3"
    },
    "language_info": {
      "name": "python"
    },
    "accelerator": "GPU"
  },
  "cells": [
    {
      "cell_type": "code",
      "source": [
        "import numpy as np\n",
        "import tensorflow as tf\n",
        "from tensorflow import keras\n",
        "from tensorflow.keras.preprocessing.text import Tokenizer\n",
        "from tensorflow.keras.preprocessing.sequence import pad_sequences\n",
        "from tensorflow.keras.utils import to_categorical\n",
        "from tensorflow.keras.layers import Dense,Embedding,LSTM\n",
        "from tensorflow.keras.models import Sequential"
      ],
      "metadata": {
        "id": "BmM-461tbMaG"
      },
      "execution_count": null,
      "outputs": []
    },
    {
      "cell_type": "code",
      "execution_count": null,
      "metadata": {
        "id": "JME5F1HDavrr"
      },
      "outputs": [],
      "source": [
        "doc= \"\"\"The Indian men's cricket team is one of the most successful and followed teams in the world. Over the decades, India has produced some of the finest cricketers to ever play the game — legends like Sachin Tendulkar, MS Dhoni, Rahul Dravid, Virender Sehwag, Anil Kumble, and now modern-day stars like Virat Kohli, Rohit Sharma, Jasprit Bumrah, and Shubman Gill.\n",
        "\n",
        "Virat Kohli is among the greatest batsmen of the 21st century. Known for his aggressive approach, fitness, and chase mastery, Kohli has won numerous matches for India across all formats. He has over 25,000 international runs and is the fastest to many milestones. One of his iconic innings came during the 2022 T20 World Cup against Pakistan, where he scored a memorable unbeaten 82* at the Melbourne Cricket Ground, leading India to a miraculous last-ball victory.\n",
        "\n",
        "Rohit Sharma, the current captain of the Indian team in all formats, is admired for his elegant stroke play and calm leadership. He holds the world record for the highest individual score in ODI cricket — a stunning 264 runs. Rohit has scored three double centuries in ODIs, more than any other player in history. As captain of Mumbai Indians in the IPL, he led the franchise to five titles.\n",
        "\n",
        "Jasprit Bumrah, India's fast-bowling spearhead, is known for his lethal yorkers, control, and temperament in pressure situations. His unorthodox action and ability to bowl in the death overs make him one of the top bowlers in the world. He played a key role in India’s Test series win in Australia in 2020-21 and has delivered in World Cups and IPL alike.\n",
        "\n",
        "Ravindra Jadeja, one of the world’s finest all-rounders, contributes with bat, ball, and especially in the field. His bullet throws, sharp reflexes, and ability to take wickets and hit quick runs make him a complete package. In the 2019 World Cup semifinal against New Zealand, he scored 77 and almost pulled off a thrilling win.\n",
        "\n",
        "Shubman Gill is a stylish young opener who has cemented his place in the Indian team. His backfoot punches and calm demeanor have drawn comparisons to Rahul Dravid and Virat Kohli. In 2023, Gill scored a double century against New Zealand, becoming the youngest Indian to do so in ODIs. He followed it up with centuries in Tests and T20s, proving his all-format capability.\n",
        "\n",
        "KL Rahul is a technically sound batsman who also serves as a wicketkeeper. His versatility allows him to bat anywhere in the top or middle order. In the 2023 Asia Cup final, he returned from injury and scored a fluent 111*, guiding India to a title win. His ability to anchor innings and accelerate later makes him vital in ODIs and T20s.\n",
        "\n",
        "Hardik Pandya is a hard-hitting all-rounder known for his explosive batting and useful fast bowling. He has won many close matches with his six-hitting ability, like the 2022 match against England where he scored 71 and took 4 wickets. As captain of Gujarat Titans, he led them to the IPL trophy in their debut season.\n",
        "\n",
        "Mohammed Siraj emerged as a dependable pacer. His 6/21 spell in the Asia Cup 2023 final dismantled Sri Lanka, earning him the Player of the Match award. His journey from humble beginnings to becoming a key bowler in India's lineup is an inspiring story of perseverance.\n",
        "\n",
        "Kuldeep Yadav, the left-arm wrist-spinner, brings variety and mystery. He has taken multiple five-wicket hauls and two international hat-tricks. In the 2023 World Cup, he was India's highest wicket-taker with his deceptive spin.\n",
        "\n",
        "Rishabh Pant is known for his fearless cricket and unorthodox stroke play. His match-winning knock of 89* in Brisbane in 2021 helped India win the Test series in Australia against all odds. After recovering from a major accident, Pant returned stronger and continues to be a fan favorite.\n",
        "\n",
        "Suryakumar Yadav, nicknamed SKY, has redefined T20 batting with his 360-degree strokeplay. His innings of 102 off 49 balls against South Africa in 2022 was hailed as one of the greatest T20 innings of all time. He is currently ranked among the top T20 batsmen globally.\n",
        "\n",
        "India’s rich cricketing history includes epic wins such as the 1983 and 2011 ODI World Cup victories, the 2007 T20 World Cup triumph, and back-to-back Test series wins in Australia. The team has also won multiple Asia Cups and Champions Trophies.\n",
        "\n",
        "India’s bench strength is a major asset. Players like Ishan Kishan, Sanju Samson, Ruturaj Gaikwad, Arshdeep Singh, Washington Sundar, and Prithvi Shaw are waiting for their chances and have proven their worth in IPL and India A matches.\n",
        "\n",
        "Dravid, now the head coach, emphasizes discipline, technique, and long-term planning. Under his guidance, India focuses on grooming young talent, rotating players to manage workload, and maintaining high fitness levels.\n",
        "\n",
        "The Indian cricket team also focuses heavily on fielding, fitness, and mental conditioning. Virat Kohli set the benchmark for fitness in Indian cricket, inspiring younger players to improve their strength and agility. Jadeja and Suryakumar are considered among the best fielders in the world.\n",
        "\n",
        "Strategically, India uses data analysis, match simulations, and pitch-specific planning. The BCCI has invested in state-of-the-art training facilities and high-performance centers. Players work closely with batting and bowling coaches, mental conditioning experts, and physiotherapists.\n",
        "\n",
        "India's rivalry with Pakistan continues to be the most-watched and intense clash in world cricket. Matches between the two nations often draw over a billion viewers. In the 2022 T20 World Cup match at the MCG, over 90,000 fans witnessed a last-over thriller that India won.\n",
        "\n",
        "India is preparing for future ICC tournaments including the 2025 Champions Trophy, the 2026 T20 World Cup, and the 2027 ODI World Cup. The goal is to dominate all three formats and finally win an ICC title after over a decade.\n",
        "\n",
        "The Indian men’s cricket team is more than just a sports team — it's a symbol of national pride, unity, and ambition. With a perfect blend of youth and experience, strategy and aggression, skill and spirit, India is ready to scale new heights in world cricket.\n",
        "\"\"\""
      ]
    },
    {
      "cell_type": "code",
      "source": [
        "doc"
      ],
      "metadata": {
        "colab": {
          "base_uri": "https://localhost:8080/",
          "height": 157
        },
        "id": "9P_jJCkrbGyv",
        "outputId": "619da1da-944f-425b-f6cf-9715221d6cf6"
      },
      "execution_count": null,
      "outputs": [
        {
          "output_type": "execute_result",
          "data": {
            "text/plain": [
              "\"The Indian men's cricket team is one of the most successful and followed teams in the world. Over the decades, India has produced some of the finest cricketers to ever play the game — legends like Sachin Tendulkar, MS Dhoni, Rahul Dravid, Virender Sehwag, Anil Kumble, and now modern-day stars like Virat Kohli, Rohit Sharma, Jasprit Bumrah, and Shubman Gill.\\n\\nVirat Kohli is among the greatest batsmen of the 21st century. Known for his aggressive approach, fitness, and chase mastery, Kohli has won numerous matches for India across all formats. He has over 25,000 international runs and is the fastest to many milestones. One of his iconic innings came during the 2022 T20 World Cup against Pakistan, where he scored a memorable unbeaten 82* at the Melbourne Cricket Ground, leading India to a miraculous last-ball victory.\\n\\nRohit Sharma, the current captain of the Indian team in all formats, is admired for his elegant stroke play and calm leadership. He holds the world record for the highest individual score in ODI cricket — a stunning 264 runs. Rohit has scored three double centuries in ODIs, more than any other player in history. As captain of Mumbai Indians in the IPL, he led the franchise to five titles.\\n\\nJasprit Bumrah, India's fast-bowling spearhead, is known for his lethal yorkers, control, and temperament in pressure situations. His unorthodox action and ability to bowl in the death overs make him one of the top bowlers in the world. He played a key role in India’s Test series win in Australia in 2020-21 and has delivered in World Cups and IPL alike.\\n\\nRavindra Jadeja, one of the world’s finest all-rounders, contributes with bat, ball, and especially in the field. His bullet throws, sharp reflexes, and ability to take wickets and hit quick runs make him a complete package. In the 2019 World Cup semifinal against New Zealand, he scored 77 and almost pulled off a thrilling win.\\n\\nShubman Gill is a stylish young opener who has cemented his place in the Indian team. His backfoot punches and calm demeanor have drawn comparisons to Rahul Dravid and Virat Kohli. In 2023, Gill scored a double century against New Zealand, becoming the youngest Indian to do so in ODIs. He followed it up with centuries in Tests and T20s, proving his all-format capability.\\n\\nKL Rahul is a technically sound batsman who also serves as a wicketkeeper. His versatility allows him to bat anywhere in the top or middle order. In the 2023 Asia Cup final, he returned from injury and scored a fluent 111*, guiding India to a title win. His ability to anchor innings and accelerate later makes him vital in ODIs and T20s.\\n\\nHardik Pandya is a hard-hitting all-rounder known for his explosive batting and useful fast bowling. He has won many close matches with his six-hitting ability, like the 2022 match against England where he scored 71 and took 4 wickets. As captain of Gujarat Titans, he led them to the IPL trophy in their debut season.\\n\\nMohammed Siraj emerged as a dependable pacer. His 6/21 spell in the Asia Cup 2023 final dismantled Sri Lanka, earning him the Player of the Match award. His journey from humble beginnings to becoming a key bowler in India's lineup is an inspiring story of perseverance.\\n\\nKuldeep Yadav, the left-arm wrist-spinner, brings variety and mystery. He has taken multiple five-wicket hauls and two international hat-tricks. In the 2023 World Cup, he was India's highest wicket-taker with his deceptive spin.\\n\\nRishabh Pant is known for his fearless cricket and unorthodox stroke play. His match-winning knock of 89* in Brisbane in 2021 helped India win the Test series in Australia against all odds. After recovering from a major accident, Pant returned stronger and continues to be a fan favorite.\\n\\nSuryakumar Yadav, nicknamed SKY, has redefined T20 batting with his 360-degree strokeplay. His innings of 102 off 49 balls against South Africa in 2022 was hailed as one of the greatest T20 innings of all time. He is currently ranked among the top T20 batsmen globally.\\n\\nIndia’s rich cricketing history includes epic wins such as the 1983 and 2011 ODI World Cup victories, the 2007 T20 World Cup triumph, and back-to-back Test series wins in Australia. The team has also won multiple Asia Cups and Champions Trophies.\\n\\nIndia’s bench strength is a major asset. Players like Ishan Kishan, Sanju Samson, Ruturaj Gaikwad, Arshdeep Singh, Washington Sundar, and Prithvi Shaw are waiting for their chances and have proven their worth in IPL and India A matches.\\n\\nDravid, now the head coach, emphasizes discipline, technique, and long-term planning. Under his guidance, India focuses on grooming young talent, rotating players to manage workload, and maintaining high fitness levels.\\n\\nThe Indian cricket team also focuses heavily on fielding, fitness, and mental conditioning. Virat Kohli set the benchmark for fitness in Indian cricket, inspiring younger players to improve their strength and agility. Jadeja and Suryakumar are considered among the best fielders in the world.\\n\\nStrategically, India uses data analysis, match simulations, and pitch-specific planning. The BCCI has invested in state-of-the-art training facilities and high-performance centers. Players work closely with batting and bowling coaches, mental conditioning experts, and physiotherapists.\\n\\nIndia's rivalry with Pakistan continues to be the most-watched and intense clash in world cricket. Matches between the two nations often draw over a billion viewers. In the 2022 T20 World Cup match at the MCG, over 90,000 fans witnessed a last-over thriller that India won.\\n\\nIndia is preparing for future ICC tournaments including the 2025 Champions Trophy, the 2026 T20 World Cup, and the 2027 ODI World Cup. The goal is to dominate all three formats and finally win an ICC title after over a decade.\\n\\nThe Indian men’s cricket team is more than just a sports team — it's a symbol of national pride, unity, and ambition. With a perfect blend of youth and experience, strategy and aggression, skill and spirit, India is ready to scale new heights in world cricket.\\n\""
            ],
            "application/vnd.google.colaboratory.intrinsic+json": {
              "type": "string"
            }
          },
          "metadata": {},
          "execution_count": 3
        }
      ]
    },
    {
      "cell_type": "markdown",
      "source": [],
      "metadata": {
        "id": "MX9gRYDZkK81"
      }
    },
    {
      "cell_type": "code",
      "source": [
        "tokenizer=Tokenizer()"
      ],
      "metadata": {
        "id": "BuWktG-GboES"
      },
      "execution_count": null,
      "outputs": []
    },
    {
      "cell_type": "markdown",
      "source": [],
      "metadata": {
        "id": "fWN9SjPlzhBb"
      }
    },
    {
      "cell_type": "markdown",
      "source": [],
      "metadata": {
        "id": "V09PB3OVzg-O"
      }
    },
    {
      "cell_type": "code",
      "source": [
        "tokenizer.fit_on_texts([doc])"
      ],
      "metadata": {
        "id": "sNr0JQJPb0aV"
      },
      "execution_count": null,
      "outputs": []
    },
    {
      "cell_type": "code",
      "source": [
        "tokenizer.word_index"
      ],
      "metadata": {
        "colab": {
          "base_uri": "https://localhost:8080/"
        },
        "id": "bsWCEgIwcFXu",
        "outputId": "3ab2ef23-7661-4deb-bcf2-bb18fddbb5ec"
      },
      "execution_count": null,
      "outputs": [
        {
          "output_type": "execute_result",
          "data": {
            "text/plain": [
              "{'the': 1,\n",
              " 'and': 2,\n",
              " 'in': 3,\n",
              " 'a': 4,\n",
              " 'his': 5,\n",
              " 'to': 6,\n",
              " 'of': 7,\n",
              " 'is': 8,\n",
              " 'world': 9,\n",
              " 'he': 10,\n",
              " 'india': 11,\n",
              " 'has': 12,\n",
              " 'for': 13,\n",
              " 'cup': 14,\n",
              " 'cricket': 15,\n",
              " 'all': 16,\n",
              " 'with': 17,\n",
              " 'indian': 18,\n",
              " 'team': 19,\n",
              " 't20': 20,\n",
              " 'over': 21,\n",
              " 'against': 22,\n",
              " 'scored': 23,\n",
              " 'as': 24,\n",
              " 'one': 25,\n",
              " 'kohli': 26,\n",
              " 'him': 27,\n",
              " 'win': 28,\n",
              " 'match': 29,\n",
              " 'like': 30,\n",
              " 'virat': 31,\n",
              " 'known': 32,\n",
              " 'fitness': 33,\n",
              " 'won': 34,\n",
              " 'matches': 35,\n",
              " 'innings': 36,\n",
              " '2022': 37,\n",
              " 'ipl': 38,\n",
              " \"india's\": 39,\n",
              " 'ability': 40,\n",
              " '2023': 41,\n",
              " 'their': 42,\n",
              " 'players': 43,\n",
              " 'play': 44,\n",
              " '—': 45,\n",
              " 'rahul': 46,\n",
              " 'dravid': 47,\n",
              " 'rohit': 48,\n",
              " 'gill': 49,\n",
              " 'among': 50,\n",
              " 'formats': 51,\n",
              " 'runs': 52,\n",
              " 'captain': 53,\n",
              " 'odi': 54,\n",
              " 'odis': 55,\n",
              " 'bowling': 56,\n",
              " 'top': 57,\n",
              " 'india’s': 58,\n",
              " 'test': 59,\n",
              " 'series': 60,\n",
              " 'australia': 61,\n",
              " 'new': 62,\n",
              " 'also': 63,\n",
              " 'asia': 64,\n",
              " 'from': 65,\n",
              " 'batting': 66,\n",
              " 'most': 67,\n",
              " 'followed': 68,\n",
              " 'finest': 69,\n",
              " 'now': 70,\n",
              " 'sharma': 71,\n",
              " 'jasprit': 72,\n",
              " 'bumrah': 73,\n",
              " 'shubman': 74,\n",
              " 'greatest': 75,\n",
              " 'batsmen': 76,\n",
              " 'century': 77,\n",
              " '000': 78,\n",
              " 'international': 79,\n",
              " 'many': 80,\n",
              " 'pakistan': 81,\n",
              " 'where': 82,\n",
              " 'at': 83,\n",
              " 'last': 84,\n",
              " 'ball': 85,\n",
              " 'stroke': 86,\n",
              " 'calm': 87,\n",
              " 'highest': 88,\n",
              " 'three': 89,\n",
              " 'double': 90,\n",
              " 'centuries': 91,\n",
              " 'more': 92,\n",
              " 'than': 93,\n",
              " 'player': 94,\n",
              " 'history': 95,\n",
              " 'led': 96,\n",
              " 'five': 97,\n",
              " 'fast': 98,\n",
              " 'unorthodox': 99,\n",
              " 'make': 100,\n",
              " 'key': 101,\n",
              " '21': 102,\n",
              " 'cups': 103,\n",
              " 'jadeja': 104,\n",
              " 'bat': 105,\n",
              " 'wickets': 106,\n",
              " 'zealand': 107,\n",
              " 'off': 108,\n",
              " 'young': 109,\n",
              " 'who': 110,\n",
              " 'have': 111,\n",
              " 'becoming': 112,\n",
              " 't20s': 113,\n",
              " 'final': 114,\n",
              " 'returned': 115,\n",
              " 'title': 116,\n",
              " 'hitting': 117,\n",
              " 'trophy': 118,\n",
              " 'an': 119,\n",
              " 'inspiring': 120,\n",
              " 'yadav': 121,\n",
              " 'multiple': 122,\n",
              " 'wicket': 123,\n",
              " 'two': 124,\n",
              " 'was': 125,\n",
              " 'pant': 126,\n",
              " 'after': 127,\n",
              " 'major': 128,\n",
              " 'continues': 129,\n",
              " 'be': 130,\n",
              " 'suryakumar': 131,\n",
              " 'wins': 132,\n",
              " 'back': 133,\n",
              " 'champions': 134,\n",
              " 'strength': 135,\n",
              " 'are': 136,\n",
              " 'planning': 137,\n",
              " 'focuses': 138,\n",
              " 'on': 139,\n",
              " 'high': 140,\n",
              " 'mental': 141,\n",
              " 'conditioning': 142,\n",
              " 'icc': 143,\n",
              " \"men's\": 144,\n",
              " 'successful': 145,\n",
              " 'teams': 146,\n",
              " 'decades': 147,\n",
              " 'produced': 148,\n",
              " 'some': 149,\n",
              " 'cricketers': 150,\n",
              " 'ever': 151,\n",
              " 'game': 152,\n",
              " 'legends': 153,\n",
              " 'sachin': 154,\n",
              " 'tendulkar': 155,\n",
              " 'ms': 156,\n",
              " 'dhoni': 157,\n",
              " 'virender': 158,\n",
              " 'sehwag': 159,\n",
              " 'anil': 160,\n",
              " 'kumble': 161,\n",
              " 'modern': 162,\n",
              " 'day': 163,\n",
              " 'stars': 164,\n",
              " '21st': 165,\n",
              " 'aggressive': 166,\n",
              " 'approach': 167,\n",
              " 'chase': 168,\n",
              " 'mastery': 169,\n",
              " 'numerous': 170,\n",
              " 'across': 171,\n",
              " '25': 172,\n",
              " 'fastest': 173,\n",
              " 'milestones': 174,\n",
              " 'iconic': 175,\n",
              " 'came': 176,\n",
              " 'during': 177,\n",
              " 'memorable': 178,\n",
              " 'unbeaten': 179,\n",
              " '82': 180,\n",
              " 'melbourne': 181,\n",
              " 'ground': 182,\n",
              " 'leading': 183,\n",
              " 'miraculous': 184,\n",
              " 'victory': 185,\n",
              " 'current': 186,\n",
              " 'admired': 187,\n",
              " 'elegant': 188,\n",
              " 'leadership': 189,\n",
              " 'holds': 190,\n",
              " 'record': 191,\n",
              " 'individual': 192,\n",
              " 'score': 193,\n",
              " 'stunning': 194,\n",
              " '264': 195,\n",
              " 'any': 196,\n",
              " 'other': 197,\n",
              " 'mumbai': 198,\n",
              " 'indians': 199,\n",
              " 'franchise': 200,\n",
              " 'titles': 201,\n",
              " 'spearhead': 202,\n",
              " 'lethal': 203,\n",
              " 'yorkers': 204,\n",
              " 'control': 205,\n",
              " 'temperament': 206,\n",
              " 'pressure': 207,\n",
              " 'situations': 208,\n",
              " 'action': 209,\n",
              " 'bowl': 210,\n",
              " 'death': 211,\n",
              " 'overs': 212,\n",
              " 'bowlers': 213,\n",
              " 'played': 214,\n",
              " 'role': 215,\n",
              " '2020': 216,\n",
              " 'delivered': 217,\n",
              " 'alike': 218,\n",
              " 'ravindra': 219,\n",
              " 'world’s': 220,\n",
              " 'rounders': 221,\n",
              " 'contributes': 222,\n",
              " 'especially': 223,\n",
              " 'field': 224,\n",
              " 'bullet': 225,\n",
              " 'throws': 226,\n",
              " 'sharp': 227,\n",
              " 'reflexes': 228,\n",
              " 'take': 229,\n",
              " 'hit': 230,\n",
              " 'quick': 231,\n",
              " 'complete': 232,\n",
              " 'package': 233,\n",
              " '2019': 234,\n",
              " 'semifinal': 235,\n",
              " '77': 236,\n",
              " 'almost': 237,\n",
              " 'pulled': 238,\n",
              " 'thrilling': 239,\n",
              " 'stylish': 240,\n",
              " 'opener': 241,\n",
              " 'cemented': 242,\n",
              " 'place': 243,\n",
              " 'backfoot': 244,\n",
              " 'punches': 245,\n",
              " 'demeanor': 246,\n",
              " 'drawn': 247,\n",
              " 'comparisons': 248,\n",
              " 'youngest': 249,\n",
              " 'do': 250,\n",
              " 'so': 251,\n",
              " 'it': 252,\n",
              " 'up': 253,\n",
              " 'tests': 254,\n",
              " 'proving': 255,\n",
              " 'format': 256,\n",
              " 'capability': 257,\n",
              " 'kl': 258,\n",
              " 'technically': 259,\n",
              " 'sound': 260,\n",
              " 'batsman': 261,\n",
              " 'serves': 262,\n",
              " 'wicketkeeper': 263,\n",
              " 'versatility': 264,\n",
              " 'allows': 265,\n",
              " 'anywhere': 266,\n",
              " 'or': 267,\n",
              " 'middle': 268,\n",
              " 'order': 269,\n",
              " 'injury': 270,\n",
              " 'fluent': 271,\n",
              " '111': 272,\n",
              " 'guiding': 273,\n",
              " 'anchor': 274,\n",
              " 'accelerate': 275,\n",
              " 'later': 276,\n",
              " 'makes': 277,\n",
              " 'vital': 278,\n",
              " 'hardik': 279,\n",
              " 'pandya': 280,\n",
              " 'hard': 281,\n",
              " 'rounder': 282,\n",
              " 'explosive': 283,\n",
              " 'useful': 284,\n",
              " 'close': 285,\n",
              " 'six': 286,\n",
              " 'england': 287,\n",
              " '71': 288,\n",
              " 'took': 289,\n",
              " '4': 290,\n",
              " 'gujarat': 291,\n",
              " 'titans': 292,\n",
              " 'them': 293,\n",
              " 'debut': 294,\n",
              " 'season': 295,\n",
              " 'mohammed': 296,\n",
              " 'siraj': 297,\n",
              " 'emerged': 298,\n",
              " 'dependable': 299,\n",
              " 'pacer': 300,\n",
              " '6': 301,\n",
              " 'spell': 302,\n",
              " 'dismantled': 303,\n",
              " 'sri': 304,\n",
              " 'lanka': 305,\n",
              " 'earning': 306,\n",
              " 'award': 307,\n",
              " 'journey': 308,\n",
              " 'humble': 309,\n",
              " 'beginnings': 310,\n",
              " 'bowler': 311,\n",
              " 'lineup': 312,\n",
              " 'story': 313,\n",
              " 'perseverance': 314,\n",
              " 'kuldeep': 315,\n",
              " 'left': 316,\n",
              " 'arm': 317,\n",
              " 'wrist': 318,\n",
              " 'spinner': 319,\n",
              " 'brings': 320,\n",
              " 'variety': 321,\n",
              " 'mystery': 322,\n",
              " 'taken': 323,\n",
              " 'hauls': 324,\n",
              " 'hat': 325,\n",
              " 'tricks': 326,\n",
              " 'taker': 327,\n",
              " 'deceptive': 328,\n",
              " 'spin': 329,\n",
              " 'rishabh': 330,\n",
              " 'fearless': 331,\n",
              " 'winning': 332,\n",
              " 'knock': 333,\n",
              " '89': 334,\n",
              " 'brisbane': 335,\n",
              " '2021': 336,\n",
              " 'helped': 337,\n",
              " 'odds': 338,\n",
              " 'recovering': 339,\n",
              " 'accident': 340,\n",
              " 'stronger': 341,\n",
              " 'fan': 342,\n",
              " 'favorite': 343,\n",
              " 'nicknamed': 344,\n",
              " 'sky': 345,\n",
              " 'redefined': 346,\n",
              " '360': 347,\n",
              " 'degree': 348,\n",
              " 'strokeplay': 349,\n",
              " '102': 350,\n",
              " '49': 351,\n",
              " 'balls': 352,\n",
              " 'south': 353,\n",
              " 'africa': 354,\n",
              " 'hailed': 355,\n",
              " 'time': 356,\n",
              " 'currently': 357,\n",
              " 'ranked': 358,\n",
              " 'globally': 359,\n",
              " 'rich': 360,\n",
              " 'cricketing': 361,\n",
              " 'includes': 362,\n",
              " 'epic': 363,\n",
              " 'such': 364,\n",
              " '1983': 365,\n",
              " '2011': 366,\n",
              " 'victories': 367,\n",
              " '2007': 368,\n",
              " 'triumph': 369,\n",
              " 'trophies': 370,\n",
              " 'bench': 371,\n",
              " 'asset': 372,\n",
              " 'ishan': 373,\n",
              " 'kishan': 374,\n",
              " 'sanju': 375,\n",
              " 'samson': 376,\n",
              " 'ruturaj': 377,\n",
              " 'gaikwad': 378,\n",
              " 'arshdeep': 379,\n",
              " 'singh': 380,\n",
              " 'washington': 381,\n",
              " 'sundar': 382,\n",
              " 'prithvi': 383,\n",
              " 'shaw': 384,\n",
              " 'waiting': 385,\n",
              " 'chances': 386,\n",
              " 'proven': 387,\n",
              " 'worth': 388,\n",
              " 'head': 389,\n",
              " 'coach': 390,\n",
              " 'emphasizes': 391,\n",
              " 'discipline': 392,\n",
              " 'technique': 393,\n",
              " 'long': 394,\n",
              " 'term': 395,\n",
              " 'under': 396,\n",
              " 'guidance': 397,\n",
              " 'grooming': 398,\n",
              " 'talent': 399,\n",
              " 'rotating': 400,\n",
              " 'manage': 401,\n",
              " 'workload': 402,\n",
              " 'maintaining': 403,\n",
              " 'levels': 404,\n",
              " 'heavily': 405,\n",
              " 'fielding': 406,\n",
              " 'set': 407,\n",
              " 'benchmark': 408,\n",
              " 'younger': 409,\n",
              " 'improve': 410,\n",
              " 'agility': 411,\n",
              " 'considered': 412,\n",
              " 'best': 413,\n",
              " 'fielders': 414,\n",
              " 'strategically': 415,\n",
              " 'uses': 416,\n",
              " 'data': 417,\n",
              " 'analysis': 418,\n",
              " 'simulations': 419,\n",
              " 'pitch': 420,\n",
              " 'specific': 421,\n",
              " 'bcci': 422,\n",
              " 'invested': 423,\n",
              " 'state': 424,\n",
              " 'art': 425,\n",
              " 'training': 426,\n",
              " 'facilities': 427,\n",
              " 'performance': 428,\n",
              " 'centers': 429,\n",
              " 'work': 430,\n",
              " 'closely': 431,\n",
              " 'coaches': 432,\n",
              " 'experts': 433,\n",
              " 'physiotherapists': 434,\n",
              " 'rivalry': 435,\n",
              " 'watched': 436,\n",
              " 'intense': 437,\n",
              " 'clash': 438,\n",
              " 'between': 439,\n",
              " 'nations': 440,\n",
              " 'often': 441,\n",
              " 'draw': 442,\n",
              " 'billion': 443,\n",
              " 'viewers': 444,\n",
              " 'mcg': 445,\n",
              " '90': 446,\n",
              " 'fans': 447,\n",
              " 'witnessed': 448,\n",
              " 'thriller': 449,\n",
              " 'that': 450,\n",
              " 'preparing': 451,\n",
              " 'future': 452,\n",
              " 'tournaments': 453,\n",
              " 'including': 454,\n",
              " '2025': 455,\n",
              " '2026': 456,\n",
              " '2027': 457,\n",
              " 'goal': 458,\n",
              " 'dominate': 459,\n",
              " 'finally': 460,\n",
              " 'decade': 461,\n",
              " 'men’s': 462,\n",
              " 'just': 463,\n",
              " 'sports': 464,\n",
              " \"it's\": 465,\n",
              " 'symbol': 466,\n",
              " 'national': 467,\n",
              " 'pride': 468,\n",
              " 'unity': 469,\n",
              " 'ambition': 470,\n",
              " 'perfect': 471,\n",
              " 'blend': 472,\n",
              " 'youth': 473,\n",
              " 'experience': 474,\n",
              " 'strategy': 475,\n",
              " 'aggression': 476,\n",
              " 'skill': 477,\n",
              " 'spirit': 478,\n",
              " 'ready': 479,\n",
              " 'scale': 480,\n",
              " 'heights': 481}"
            ]
          },
          "metadata": {},
          "execution_count": 6
        }
      ]
    },
    {
      "cell_type": "code",
      "source": [
        "len(tokenizer.word_index)"
      ],
      "metadata": {
        "colab": {
          "base_uri": "https://localhost:8080/"
        },
        "id": "aMd9FGEGpLo_",
        "outputId": "6a8c53a7-36ee-4025-cc9a-00fcf53c6b53"
      },
      "execution_count": null,
      "outputs": [
        {
          "output_type": "execute_result",
          "data": {
            "text/plain": [
              "481"
            ]
          },
          "metadata": {},
          "execution_count": 7
        }
      ]
    },
    {
      "cell_type": "code",
      "source": [
        "input_sequence=[]\n",
        "for sen in doc.split('\\n'):\n",
        "  #print(sen)\n",
        "  print(tokenizer.texts_to_sequences([sen])[0])\n",
        "  tokenize_sentence=tokenizer.texts_to_sequences([sen])[0]\n",
        "  for i in range(1,len(tokenize_sentence)):\n",
        "    input_sequence.append(tokenize_sentence[:i+1])"
      ],
      "metadata": {
        "colab": {
          "base_uri": "https://localhost:8080/"
        },
        "id": "UxN4JPPDcLni",
        "outputId": "50579377-2112-4439-8d4f-e746ff13cb28"
      },
      "execution_count": null,
      "outputs": [
        {
          "output_type": "stream",
          "name": "stdout",
          "text": [
            "[1, 18, 144, 15, 19, 8, 25, 7, 1, 67, 145, 2, 68, 146, 3, 1, 9, 21, 1, 147, 11, 12, 148, 149, 7, 1, 69, 150, 6, 151, 44, 1, 152, 45, 153, 30, 154, 155, 156, 157, 46, 47, 158, 159, 160, 161, 2, 70, 162, 163, 164, 30, 31, 26, 48, 71, 72, 73, 2, 74, 49]\n",
            "[]\n",
            "[31, 26, 8, 50, 1, 75, 76, 7, 1, 165, 77, 32, 13, 5, 166, 167, 33, 2, 168, 169, 26, 12, 34, 170, 35, 13, 11, 171, 16, 51, 10, 12, 21, 172, 78, 79, 52, 2, 8, 1, 173, 6, 80, 174, 25, 7, 5, 175, 36, 176, 177, 1, 37, 20, 9, 14, 22, 81, 82, 10, 23, 4, 178, 179, 180, 83, 1, 181, 15, 182, 183, 11, 6, 4, 184, 84, 85, 185]\n",
            "[]\n",
            "[48, 71, 1, 186, 53, 7, 1, 18, 19, 3, 16, 51, 8, 187, 13, 5, 188, 86, 44, 2, 87, 189, 10, 190, 1, 9, 191, 13, 1, 88, 192, 193, 3, 54, 15, 45, 4, 194, 195, 52, 48, 12, 23, 89, 90, 91, 3, 55, 92, 93, 196, 197, 94, 3, 95, 24, 53, 7, 198, 199, 3, 1, 38, 10, 96, 1, 200, 6, 97, 201]\n",
            "[]\n",
            "[72, 73, 39, 98, 56, 202, 8, 32, 13, 5, 203, 204, 205, 2, 206, 3, 207, 208, 5, 99, 209, 2, 40, 6, 210, 3, 1, 211, 212, 100, 27, 25, 7, 1, 57, 213, 3, 1, 9, 10, 214, 4, 101, 215, 3, 58, 59, 60, 28, 3, 61, 3, 216, 102, 2, 12, 217, 3, 9, 103, 2, 38, 218]\n",
            "[]\n",
            "[219, 104, 25, 7, 1, 220, 69, 16, 221, 222, 17, 105, 85, 2, 223, 3, 1, 224, 5, 225, 226, 227, 228, 2, 40, 6, 229, 106, 2, 230, 231, 52, 100, 27, 4, 232, 233, 3, 1, 234, 9, 14, 235, 22, 62, 107, 10, 23, 236, 2, 237, 238, 108, 4, 239, 28]\n",
            "[]\n",
            "[74, 49, 8, 4, 240, 109, 241, 110, 12, 242, 5, 243, 3, 1, 18, 19, 5, 244, 245, 2, 87, 246, 111, 247, 248, 6, 46, 47, 2, 31, 26, 3, 41, 49, 23, 4, 90, 77, 22, 62, 107, 112, 1, 249, 18, 6, 250, 251, 3, 55, 10, 68, 252, 253, 17, 91, 3, 254, 2, 113, 255, 5, 16, 256, 257]\n",
            "[]\n",
            "[258, 46, 8, 4, 259, 260, 261, 110, 63, 262, 24, 4, 263, 5, 264, 265, 27, 6, 105, 266, 3, 1, 57, 267, 268, 269, 3, 1, 41, 64, 14, 114, 10, 115, 65, 270, 2, 23, 4, 271, 272, 273, 11, 6, 4, 116, 28, 5, 40, 6, 274, 36, 2, 275, 276, 277, 27, 278, 3, 55, 2, 113]\n",
            "[]\n",
            "[279, 280, 8, 4, 281, 117, 16, 282, 32, 13, 5, 283, 66, 2, 284, 98, 56, 10, 12, 34, 80, 285, 35, 17, 5, 286, 117, 40, 30, 1, 37, 29, 22, 287, 82, 10, 23, 288, 2, 289, 290, 106, 24, 53, 7, 291, 292, 10, 96, 293, 6, 1, 38, 118, 3, 42, 294, 295]\n",
            "[]\n",
            "[296, 297, 298, 24, 4, 299, 300, 5, 301, 102, 302, 3, 1, 64, 14, 41, 114, 303, 304, 305, 306, 27, 1, 94, 7, 1, 29, 307, 5, 308, 65, 309, 310, 6, 112, 4, 101, 311, 3, 39, 312, 8, 119, 120, 313, 7, 314]\n",
            "[]\n",
            "[315, 121, 1, 316, 317, 318, 319, 320, 321, 2, 322, 10, 12, 323, 122, 97, 123, 324, 2, 124, 79, 325, 326, 3, 1, 41, 9, 14, 10, 125, 39, 88, 123, 327, 17, 5, 328, 329]\n",
            "[]\n",
            "[330, 126, 8, 32, 13, 5, 331, 15, 2, 99, 86, 44, 5, 29, 332, 333, 7, 334, 3, 335, 3, 336, 337, 11, 28, 1, 59, 60, 3, 61, 22, 16, 338, 127, 339, 65, 4, 128, 340, 126, 115, 341, 2, 129, 6, 130, 4, 342, 343]\n",
            "[]\n",
            "[131, 121, 344, 345, 12, 346, 20, 66, 17, 5, 347, 348, 349, 5, 36, 7, 350, 108, 351, 352, 22, 353, 354, 3, 37, 125, 355, 24, 25, 7, 1, 75, 20, 36, 7, 16, 356, 10, 8, 357, 358, 50, 1, 57, 20, 76, 359]\n",
            "[]\n",
            "[58, 360, 361, 95, 362, 363, 132, 364, 24, 1, 365, 2, 366, 54, 9, 14, 367, 1, 368, 20, 9, 14, 369, 2, 133, 6, 133, 59, 60, 132, 3, 61, 1, 19, 12, 63, 34, 122, 64, 103, 2, 134, 370]\n",
            "[]\n",
            "[58, 371, 135, 8, 4, 128, 372, 43, 30, 373, 374, 375, 376, 377, 378, 379, 380, 381, 382, 2, 383, 384, 136, 385, 13, 42, 386, 2, 111, 387, 42, 388, 3, 38, 2, 11, 4, 35]\n",
            "[]\n",
            "[47, 70, 1, 389, 390, 391, 392, 393, 2, 394, 395, 137, 396, 5, 397, 11, 138, 139, 398, 109, 399, 400, 43, 6, 401, 402, 2, 403, 140, 33, 404]\n",
            "[]\n",
            "[1, 18, 15, 19, 63, 138, 405, 139, 406, 33, 2, 141, 142, 31, 26, 407, 1, 408, 13, 33, 3, 18, 15, 120, 409, 43, 6, 410, 42, 135, 2, 411, 104, 2, 131, 136, 412, 50, 1, 413, 414, 3, 1, 9]\n",
            "[]\n",
            "[415, 11, 416, 417, 418, 29, 419, 2, 420, 421, 137, 1, 422, 12, 423, 3, 424, 7, 1, 425, 426, 427, 2, 140, 428, 429, 43, 430, 431, 17, 66, 2, 56, 432, 141, 142, 433, 2, 434]\n",
            "[]\n",
            "[39, 435, 17, 81, 129, 6, 130, 1, 67, 436, 2, 437, 438, 3, 9, 15, 35, 439, 1, 124, 440, 441, 442, 21, 4, 443, 444, 3, 1, 37, 20, 9, 14, 29, 83, 1, 445, 21, 446, 78, 447, 448, 4, 84, 21, 449, 450, 11, 34]\n",
            "[]\n",
            "[11, 8, 451, 13, 452, 143, 453, 454, 1, 455, 134, 118, 1, 456, 20, 9, 14, 2, 1, 457, 54, 9, 14, 1, 458, 8, 6, 459, 16, 89, 51, 2, 460, 28, 119, 143, 116, 127, 21, 4, 461]\n",
            "[]\n",
            "[1, 18, 462, 15, 19, 8, 92, 93, 463, 4, 464, 19, 45, 465, 4, 466, 7, 467, 468, 469, 2, 470, 17, 4, 471, 472, 7, 473, 2, 474, 475, 2, 476, 477, 2, 478, 11, 8, 479, 6, 480, 62, 481, 3, 9, 15]\n",
            "[]\n"
          ]
        }
      ]
    },
    {
      "cell_type": "code",
      "source": [
        "y=[]\n",
        "for i in input_sequence:\n",
        "   y.append(i[-1])\n",
        "#print(x)"
      ],
      "metadata": {
        "id": "Z4ofaDOPfKWE"
      },
      "execution_count": null,
      "outputs": []
    },
    {
      "cell_type": "code",
      "source": [
        "x=[]\n",
        "for i in input_sequence:\n",
        "   x.append(i[:-1])\n",
        "#print(x)1"
      ],
      "metadata": {
        "id": "D0or1olplzBh"
      },
      "execution_count": null,
      "outputs": []
    },
    {
      "cell_type": "code",
      "source": [
        "max_len=max([len(i) for i in input_sequence])"
      ],
      "metadata": {
        "id": "VU0Joqt1kflo"
      },
      "execution_count": null,
      "outputs": []
    },
    {
      "cell_type": "code",
      "source": [
        "max_len"
      ],
      "metadata": {
        "colab": {
          "base_uri": "https://localhost:8080/"
        },
        "id": "mSRXLCdhlESS",
        "outputId": "ee71631a-c9bf-4a6a-9d37-b3ec44076982"
      },
      "execution_count": null,
      "outputs": [
        {
          "output_type": "execute_result",
          "data": {
            "text/plain": [
              "78"
            ]
          },
          "metadata": {},
          "execution_count": 12
        }
      ]
    },
    {
      "cell_type": "code",
      "source": [
        "padded_input_sequences=pad_sequences(input_sequence,maxlen=max_len,padding='pre')"
      ],
      "metadata": {
        "id": "frT9TJnAkD8s"
      },
      "execution_count": null,
      "outputs": []
    },
    {
      "cell_type": "code",
      "source": [
        "padded_input_sequences"
      ],
      "metadata": {
        "colab": {
          "base_uri": "https://localhost:8080/"
        },
        "id": "bh_BVzWJkdj-",
        "outputId": "d6cd2e21-3005-4879-db7d-b8d5e4e85536"
      },
      "execution_count": null,
      "outputs": [
        {
          "output_type": "execute_result",
          "data": {
            "text/plain": [
              "array([[  0,   0,   0, ...,   0,   1,  18],\n",
              "       [  0,   0,   0, ...,   1,  18, 144],\n",
              "       [  0,   0,   0, ...,  18, 144,  15],\n",
              "       ...,\n",
              "       [  0,   0,   0, ...,  62, 481,   3],\n",
              "       [  0,   0,   0, ..., 481,   3,   9],\n",
              "       [  0,   0,   0, ...,   3,   9,  15]], dtype=int32)"
            ]
          },
          "metadata": {},
          "execution_count": 14
        }
      ]
    },
    {
      "cell_type": "code",
      "source": [
        "X=padded_input_sequences[:,:-1]"
      ],
      "metadata": {
        "id": "DisW8NGgi-wU"
      },
      "execution_count": null,
      "outputs": []
    },
    {
      "cell_type": "code",
      "source": [
        "X"
      ],
      "metadata": {
        "colab": {
          "base_uri": "https://localhost:8080/"
        },
        "id": "tqs2ey59nT5H",
        "outputId": "27dcf636-1524-48c8-dbd7-c8b6a9955ed2"
      },
      "execution_count": null,
      "outputs": [
        {
          "output_type": "execute_result",
          "data": {
            "text/plain": [
              "array([[  0,   0,   0, ...,   0,   0,   1],\n",
              "       [  0,   0,   0, ...,   0,   1,  18],\n",
              "       [  0,   0,   0, ...,   1,  18, 144],\n",
              "       ...,\n",
              "       [  0,   0,   0, ..., 480,  62, 481],\n",
              "       [  0,   0,   0, ...,  62, 481,   3],\n",
              "       [  0,   0,   0, ..., 481,   3,   9]], dtype=int32)"
            ]
          },
          "metadata": {},
          "execution_count": 16
        }
      ]
    },
    {
      "cell_type": "code",
      "source": [
        "Y=padded_input_sequences[:,-1]"
      ],
      "metadata": {
        "id": "0ykwscULnGnj"
      },
      "execution_count": null,
      "outputs": []
    },
    {
      "cell_type": "code",
      "source": [
        "Y"
      ],
      "metadata": {
        "colab": {
          "base_uri": "https://localhost:8080/"
        },
        "id": "C5FtLoMqnVKt",
        "outputId": "aa09a971-b1a0-42b5-95d8-a7fc4a8dfae9"
      },
      "execution_count": null,
      "outputs": [
        {
          "output_type": "execute_result",
          "data": {
            "text/plain": [
              "array([ 18, 144,  15, ...,   3,   9,  15], dtype=int32)"
            ]
          },
          "metadata": {},
          "execution_count": 18
        }
      ]
    },
    {
      "cell_type": "code",
      "source": [
        "X.shape"
      ],
      "metadata": {
        "colab": {
          "base_uri": "https://localhost:8080/"
        },
        "id": "AT3jKfKVnMlo",
        "outputId": "a4a7fc43-e4bb-40ab-ea7b-8fe061afe81a"
      },
      "execution_count": null,
      "outputs": [
        {
          "output_type": "execute_result",
          "data": {
            "text/plain": [
              "(1005, 77)"
            ]
          },
          "metadata": {},
          "execution_count": 19
        }
      ]
    },
    {
      "cell_type": "code",
      "source": [
        "len(x)"
      ],
      "metadata": {
        "colab": {
          "base_uri": "https://localhost:8080/"
        },
        "id": "lro-YChvnnR4",
        "outputId": "b17924b4-60cf-44fa-a181-4d42f9246b5a"
      },
      "execution_count": null,
      "outputs": [
        {
          "output_type": "execute_result",
          "data": {
            "text/plain": [
              "1005"
            ]
          },
          "metadata": {},
          "execution_count": 20
        }
      ]
    },
    {
      "cell_type": "code",
      "source": [
        "Y.shape"
      ],
      "metadata": {
        "colab": {
          "base_uri": "https://localhost:8080/"
        },
        "id": "jlP8baI7nkBt",
        "outputId": "9a3c8795-638d-48a5-c62e-d04cbe87be91"
      },
      "execution_count": null,
      "outputs": [
        {
          "output_type": "execute_result",
          "data": {
            "text/plain": [
              "(1005,)"
            ]
          },
          "metadata": {},
          "execution_count": 21
        }
      ]
    },
    {
      "cell_type": "code",
      "source": [
        "len(y)"
      ],
      "metadata": {
        "colab": {
          "base_uri": "https://localhost:8080/"
        },
        "id": "pZ1_rKimnlhe",
        "outputId": "9c3da0e8-0adf-469f-e5bd-77b55545d609"
      },
      "execution_count": null,
      "outputs": [
        {
          "output_type": "execute_result",
          "data": {
            "text/plain": [
              "1005"
            ]
          },
          "metadata": {},
          "execution_count": 22
        }
      ]
    },
    {
      "cell_type": "code",
      "source": [
        "Y=to_categorical(Y,num_classes=len(tokenizer.word_index)+1)"
      ],
      "metadata": {
        "id": "_-AioEWhn4kn"
      },
      "execution_count": null,
      "outputs": []
    },
    {
      "cell_type": "code",
      "source": [
        "Y.shape"
      ],
      "metadata": {
        "colab": {
          "base_uri": "https://localhost:8080/"
        },
        "id": "g9t5yVXTpcCu",
        "outputId": "2bc48f09-338f-486f-c041-dfaad517d52a"
      },
      "execution_count": null,
      "outputs": [
        {
          "output_type": "execute_result",
          "data": {
            "text/plain": [
              "(1005, 482)"
            ]
          },
          "metadata": {},
          "execution_count": 24
        }
      ]
    },
    {
      "cell_type": "code",
      "source": [
        "Y"
      ],
      "metadata": {
        "colab": {
          "base_uri": "https://localhost:8080/"
        },
        "id": "oph8FCqzp7Hf",
        "outputId": "61ecc11b-903b-4f55-9481-56766f400451"
      },
      "execution_count": null,
      "outputs": [
        {
          "output_type": "execute_result",
          "data": {
            "text/plain": [
              "array([[0., 0., 0., ..., 0., 0., 0.],\n",
              "       [0., 0., 0., ..., 0., 0., 0.],\n",
              "       [0., 0., 0., ..., 0., 0., 0.],\n",
              "       ...,\n",
              "       [0., 0., 0., ..., 0., 0., 0.],\n",
              "       [0., 0., 0., ..., 0., 0., 0.],\n",
              "       [0., 0., 0., ..., 0., 0., 0.]])"
            ]
          },
          "metadata": {},
          "execution_count": 25
        }
      ]
    },
    {
      "cell_type": "code",
      "source": [
        "model=Sequential()\n",
        "model.add(Embedding(input_dim=len(tokenizer.word_index)+1, output_dim=100, input_length=77)) #input_length=56 and input_dim=313\n",
        "model.add(LSTM(150))\n",
        "model.add(Dense(len(tokenizer.word_index)+1,activation='softmax'))\n",
        "model.build(input_shape=(None, 77))  # Manually define batch size and sequence length\n",
        "model.summary()"
      ],
      "metadata": {
        "colab": {
          "base_uri": "https://localhost:8080/",
          "height": 225
        },
        "id": "Gwq0uQbEqhAu",
        "outputId": "46df4552-3570-45cb-f25f-47047b7fae64"
      },
      "execution_count": null,
      "outputs": [
        {
          "output_type": "display_data",
          "data": {
            "text/plain": [
              "\u001b[1mModel: \"sequential_2\"\u001b[0m\n"
            ],
            "text/html": [
              "<pre style=\"white-space:pre;overflow-x:auto;line-height:normal;font-family:Menlo,'DejaVu Sans Mono',consolas,'Courier New',monospace\"><span style=\"font-weight: bold\">Model: \"sequential_2\"</span>\n",
              "</pre>\n"
            ]
          },
          "metadata": {}
        },
        {
          "output_type": "display_data",
          "data": {
            "text/plain": [
              "┏━━━━━━━━━━━━━━━━━━━━━━━━━━━━━━━━━┳━━━━━━━━━━━━━━━━━━━━━━━━┳━━━━━━━━━━━━━━━┓\n",
              "┃\u001b[1m \u001b[0m\u001b[1mLayer (type)                   \u001b[0m\u001b[1m \u001b[0m┃\u001b[1m \u001b[0m\u001b[1mOutput Shape          \u001b[0m\u001b[1m \u001b[0m┃\u001b[1m \u001b[0m\u001b[1m      Param #\u001b[0m\u001b[1m \u001b[0m┃\n",
              "┡━━━━━━━━━━━━━━━━━━━━━━━━━━━━━━━━━╇━━━━━━━━━━━━━━━━━━━━━━━━╇━━━━━━━━━━━━━━━┩\n",
              "│ embedding_2 (\u001b[38;5;33mEmbedding\u001b[0m)         │ (\u001b[38;5;45mNone\u001b[0m, \u001b[38;5;34m77\u001b[0m, \u001b[38;5;34m100\u001b[0m)        │        \u001b[38;5;34m48,200\u001b[0m │\n",
              "├─────────────────────────────────┼────────────────────────┼───────────────┤\n",
              "│ lstm_1 (\u001b[38;5;33mLSTM\u001b[0m)                   │ (\u001b[38;5;45mNone\u001b[0m, \u001b[38;5;34m150\u001b[0m)            │       \u001b[38;5;34m150,600\u001b[0m │\n",
              "├─────────────────────────────────┼────────────────────────┼───────────────┤\n",
              "│ dense_1 (\u001b[38;5;33mDense\u001b[0m)                 │ (\u001b[38;5;45mNone\u001b[0m, \u001b[38;5;34m482\u001b[0m)            │        \u001b[38;5;34m72,782\u001b[0m │\n",
              "└─────────────────────────────────┴────────────────────────┴───────────────┘\n"
            ],
            "text/html": [
              "<pre style=\"white-space:pre;overflow-x:auto;line-height:normal;font-family:Menlo,'DejaVu Sans Mono',consolas,'Courier New',monospace\">┏━━━━━━━━━━━━━━━━━━━━━━━━━━━━━━━━━┳━━━━━━━━━━━━━━━━━━━━━━━━┳━━━━━━━━━━━━━━━┓\n",
              "┃<span style=\"font-weight: bold\"> Layer (type)                    </span>┃<span style=\"font-weight: bold\"> Output Shape           </span>┃<span style=\"font-weight: bold\">       Param # </span>┃\n",
              "┡━━━━━━━━━━━━━━━━━━━━━━━━━━━━━━━━━╇━━━━━━━━━━━━━━━━━━━━━━━━╇━━━━━━━━━━━━━━━┩\n",
              "│ embedding_2 (<span style=\"color: #0087ff; text-decoration-color: #0087ff\">Embedding</span>)         │ (<span style=\"color: #00d7ff; text-decoration-color: #00d7ff\">None</span>, <span style=\"color: #00af00; text-decoration-color: #00af00\">77</span>, <span style=\"color: #00af00; text-decoration-color: #00af00\">100</span>)        │        <span style=\"color: #00af00; text-decoration-color: #00af00\">48,200</span> │\n",
              "├─────────────────────────────────┼────────────────────────┼───────────────┤\n",
              "│ lstm_1 (<span style=\"color: #0087ff; text-decoration-color: #0087ff\">LSTM</span>)                   │ (<span style=\"color: #00d7ff; text-decoration-color: #00d7ff\">None</span>, <span style=\"color: #00af00; text-decoration-color: #00af00\">150</span>)            │       <span style=\"color: #00af00; text-decoration-color: #00af00\">150,600</span> │\n",
              "├─────────────────────────────────┼────────────────────────┼───────────────┤\n",
              "│ dense_1 (<span style=\"color: #0087ff; text-decoration-color: #0087ff\">Dense</span>)                 │ (<span style=\"color: #00d7ff; text-decoration-color: #00d7ff\">None</span>, <span style=\"color: #00af00; text-decoration-color: #00af00\">482</span>)            │        <span style=\"color: #00af00; text-decoration-color: #00af00\">72,782</span> │\n",
              "└─────────────────────────────────┴────────────────────────┴───────────────┘\n",
              "</pre>\n"
            ]
          },
          "metadata": {}
        },
        {
          "output_type": "display_data",
          "data": {
            "text/plain": [
              "\u001b[1m Total params: \u001b[0m\u001b[38;5;34m271,582\u001b[0m (1.04 MB)\n"
            ],
            "text/html": [
              "<pre style=\"white-space:pre;overflow-x:auto;line-height:normal;font-family:Menlo,'DejaVu Sans Mono',consolas,'Courier New',monospace\"><span style=\"font-weight: bold\"> Total params: </span><span style=\"color: #00af00; text-decoration-color: #00af00\">271,582</span> (1.04 MB)\n",
              "</pre>\n"
            ]
          },
          "metadata": {}
        },
        {
          "output_type": "display_data",
          "data": {
            "text/plain": [
              "\u001b[1m Trainable params: \u001b[0m\u001b[38;5;34m271,582\u001b[0m (1.04 MB)\n"
            ],
            "text/html": [
              "<pre style=\"white-space:pre;overflow-x:auto;line-height:normal;font-family:Menlo,'DejaVu Sans Mono',consolas,'Courier New',monospace\"><span style=\"font-weight: bold\"> Trainable params: </span><span style=\"color: #00af00; text-decoration-color: #00af00\">271,582</span> (1.04 MB)\n",
              "</pre>\n"
            ]
          },
          "metadata": {}
        },
        {
          "output_type": "display_data",
          "data": {
            "text/plain": [
              "\u001b[1m Non-trainable params: \u001b[0m\u001b[38;5;34m0\u001b[0m (0.00 B)\n"
            ],
            "text/html": [
              "<pre style=\"white-space:pre;overflow-x:auto;line-height:normal;font-family:Menlo,'DejaVu Sans Mono',consolas,'Courier New',monospace\"><span style=\"font-weight: bold\"> Non-trainable params: </span><span style=\"color: #00af00; text-decoration-color: #00af00\">0</span> (0.00 B)\n",
              "</pre>\n"
            ]
          },
          "metadata": {}
        }
      ]
    },
    {
      "cell_type": "code",
      "source": [
        "model.compile(loss='categorical_crossentropy',optimizer='adam',metrics=['accuracy'])"
      ],
      "metadata": {
        "id": "9FmOINHlqgUr"
      },
      "execution_count": null,
      "outputs": []
    },
    {
      "cell_type": "code",
      "source": [
        "model.fit(X,Y,epochs=100)"
      ],
      "metadata": {
        "colab": {
          "base_uri": "https://localhost:8080/"
        },
        "id": "BaZoS_antV8K",
        "outputId": "e2f419f3-d636-4985-a9fe-46f30c0810a5"
      },
      "execution_count": null,
      "outputs": [
        {
          "output_type": "stream",
          "name": "stdout",
          "text": [
            "Epoch 1/100\n",
            "\u001b[1m32/32\u001b[0m \u001b[32m━━━━━━━━━━━━━━━━━━━━\u001b[0m\u001b[37m\u001b[0m \u001b[1m4s\u001b[0m 11ms/step - accuracy: 0.0250 - loss: 6.1287\n",
            "Epoch 2/100\n",
            "\u001b[1m32/32\u001b[0m \u001b[32m━━━━━━━━━━━━━━━━━━━━\u001b[0m\u001b[37m\u001b[0m \u001b[1m1s\u001b[0m 8ms/step - accuracy: 0.0459 - loss: 5.6481\n",
            "Epoch 3/100\n",
            "\u001b[1m32/32\u001b[0m \u001b[32m━━━━━━━━━━━━━━━━━━━━\u001b[0m\u001b[37m\u001b[0m \u001b[1m0s\u001b[0m 7ms/step - accuracy: 0.0576 - loss: 5.5447\n",
            "Epoch 4/100\n",
            "\u001b[1m32/32\u001b[0m \u001b[32m━━━━━━━━━━━━━━━━━━━━\u001b[0m\u001b[37m\u001b[0m \u001b[1m0s\u001b[0m 7ms/step - accuracy: 0.0468 - loss: 5.5006\n",
            "Epoch 5/100\n",
            "\u001b[1m32/32\u001b[0m \u001b[32m━━━━━━━━━━━━━━━━━━━━\u001b[0m\u001b[37m\u001b[0m \u001b[1m0s\u001b[0m 8ms/step - accuracy: 0.0769 - loss: 5.4187\n",
            "Epoch 6/100\n",
            "\u001b[1m32/32\u001b[0m \u001b[32m━━━━━━━━━━━━━━━━━━━━\u001b[0m\u001b[37m\u001b[0m \u001b[1m0s\u001b[0m 7ms/step - accuracy: 0.0799 - loss: 5.3209\n",
            "Epoch 7/100\n",
            "\u001b[1m32/32\u001b[0m \u001b[32m━━━━━━━━━━━━━━━━━━━━\u001b[0m\u001b[37m\u001b[0m \u001b[1m0s\u001b[0m 7ms/step - accuracy: 0.0795 - loss: 5.1892\n",
            "Epoch 8/100\n",
            "\u001b[1m32/32\u001b[0m \u001b[32m━━━━━━━━━━━━━━━━━━━━\u001b[0m\u001b[37m\u001b[0m \u001b[1m0s\u001b[0m 11ms/step - accuracy: 0.0922 - loss: 4.9810\n",
            "Epoch 9/100\n",
            "\u001b[1m32/32\u001b[0m \u001b[32m━━━━━━━━━━━━━━━━━━━━\u001b[0m\u001b[37m\u001b[0m \u001b[1m1s\u001b[0m 10ms/step - accuracy: 0.1101 - loss: 4.8061\n",
            "Epoch 10/100\n",
            "\u001b[1m32/32\u001b[0m \u001b[32m━━━━━━━━━━━━━━━━━━━━\u001b[0m\u001b[37m\u001b[0m \u001b[1m0s\u001b[0m 10ms/step - accuracy: 0.1115 - loss: 4.6724\n",
            "Epoch 11/100\n",
            "\u001b[1m32/32\u001b[0m \u001b[32m━━━━━━━━━━━━━━━━━━━━\u001b[0m\u001b[37m\u001b[0m \u001b[1m0s\u001b[0m 12ms/step - accuracy: 0.1516 - loss: 4.3935\n",
            "Epoch 12/100\n",
            "\u001b[1m32/32\u001b[0m \u001b[32m━━━━━━━━━━━━━━━━━━━━\u001b[0m\u001b[37m\u001b[0m \u001b[1m0s\u001b[0m 11ms/step - accuracy: 0.1918 - loss: 4.0630\n",
            "Epoch 13/100\n",
            "\u001b[1m32/32\u001b[0m \u001b[32m━━━━━━━━━━━━━━━━━━━━\u001b[0m\u001b[37m\u001b[0m \u001b[1m1s\u001b[0m 8ms/step - accuracy: 0.1899 - loss: 3.9485\n",
            "Epoch 14/100\n",
            "\u001b[1m32/32\u001b[0m \u001b[32m━━━━━━━━━━━━━━━━━━━━\u001b[0m\u001b[37m\u001b[0m \u001b[1m0s\u001b[0m 8ms/step - accuracy: 0.2376 - loss: 3.7032\n",
            "Epoch 15/100\n",
            "\u001b[1m32/32\u001b[0m \u001b[32m━━━━━━━━━━━━━━━━━━━━\u001b[0m\u001b[37m\u001b[0m \u001b[1m0s\u001b[0m 8ms/step - accuracy: 0.2588 - loss: 3.4992\n",
            "Epoch 16/100\n",
            "\u001b[1m32/32\u001b[0m \u001b[32m━━━━━━━━━━━━━━━━━━━━\u001b[0m\u001b[37m\u001b[0m \u001b[1m0s\u001b[0m 8ms/step - accuracy: 0.2925 - loss: 3.2978\n",
            "Epoch 17/100\n",
            "\u001b[1m32/32\u001b[0m \u001b[32m━━━━━━━━━━━━━━━━━━━━\u001b[0m\u001b[37m\u001b[0m \u001b[1m0s\u001b[0m 8ms/step - accuracy: 0.3395 - loss: 3.0353\n",
            "Epoch 18/100\n",
            "\u001b[1m32/32\u001b[0m \u001b[32m━━━━━━━━━━━━━━━━━━━━\u001b[0m\u001b[37m\u001b[0m \u001b[1m0s\u001b[0m 7ms/step - accuracy: 0.4094 - loss: 2.8270\n",
            "Epoch 19/100\n",
            "\u001b[1m32/32\u001b[0m \u001b[32m━━━━━━━━━━━━━━━━━━━━\u001b[0m\u001b[37m\u001b[0m \u001b[1m0s\u001b[0m 7ms/step - accuracy: 0.4942 - loss: 2.6354\n",
            "Epoch 20/100\n",
            "\u001b[1m32/32\u001b[0m \u001b[32m━━━━━━━━━━━━━━━━━━━━\u001b[0m\u001b[37m\u001b[0m \u001b[1m0s\u001b[0m 8ms/step - accuracy: 0.5217 - loss: 2.4673\n",
            "Epoch 21/100\n",
            "\u001b[1m32/32\u001b[0m \u001b[32m━━━━━━━━━━━━━━━━━━━━\u001b[0m\u001b[37m\u001b[0m \u001b[1m0s\u001b[0m 7ms/step - accuracy: 0.5327 - loss: 2.3494\n",
            "Epoch 22/100\n",
            "\u001b[1m32/32\u001b[0m \u001b[32m━━━━━━━━━━━━━━━━━━━━\u001b[0m\u001b[37m\u001b[0m \u001b[1m0s\u001b[0m 8ms/step - accuracy: 0.5966 - loss: 2.1351\n",
            "Epoch 23/100\n",
            "\u001b[1m32/32\u001b[0m \u001b[32m━━━━━━━━━━━━━━━━━━━━\u001b[0m\u001b[37m\u001b[0m \u001b[1m0s\u001b[0m 8ms/step - accuracy: 0.6713 - loss: 1.9646\n",
            "Epoch 24/100\n",
            "\u001b[1m32/32\u001b[0m \u001b[32m━━━━━━━━━━━━━━━━━━━━\u001b[0m\u001b[37m\u001b[0m \u001b[1m0s\u001b[0m 8ms/step - accuracy: 0.6732 - loss: 1.8625\n",
            "Epoch 25/100\n",
            "\u001b[1m32/32\u001b[0m \u001b[32m━━━━━━━━━━━━━━━━━━━━\u001b[0m\u001b[37m\u001b[0m \u001b[1m0s\u001b[0m 8ms/step - accuracy: 0.7587 - loss: 1.6491\n",
            "Epoch 26/100\n",
            "\u001b[1m32/32\u001b[0m \u001b[32m━━━━━━━━━━━━━━━━━━━━\u001b[0m\u001b[37m\u001b[0m \u001b[1m0s\u001b[0m 7ms/step - accuracy: 0.8066 - loss: 1.5124\n",
            "Epoch 27/100\n",
            "\u001b[1m32/32\u001b[0m \u001b[32m━━━━━━━━━━━━━━━━━━━━\u001b[0m\u001b[37m\u001b[0m \u001b[1m0s\u001b[0m 8ms/step - accuracy: 0.8050 - loss: 1.4482\n",
            "Epoch 28/100\n",
            "\u001b[1m32/32\u001b[0m \u001b[32m━━━━━━━━━━━━━━━━━━━━\u001b[0m\u001b[37m\u001b[0m \u001b[1m0s\u001b[0m 7ms/step - accuracy: 0.8727 - loss: 1.2938\n",
            "Epoch 29/100\n",
            "\u001b[1m32/32\u001b[0m \u001b[32m━━━━━━━━━━━━━━━━━━━━\u001b[0m\u001b[37m\u001b[0m \u001b[1m0s\u001b[0m 7ms/step - accuracy: 0.8754 - loss: 1.2118\n",
            "Epoch 30/100\n",
            "\u001b[1m32/32\u001b[0m \u001b[32m━━━━━━━━━━━━━━━━━━━━\u001b[0m\u001b[37m\u001b[0m \u001b[1m0s\u001b[0m 7ms/step - accuracy: 0.9103 - loss: 1.0932\n",
            "Epoch 31/100\n",
            "\u001b[1m32/32\u001b[0m \u001b[32m━━━━━━━━━━━━━━━━━━━━\u001b[0m\u001b[37m\u001b[0m \u001b[1m0s\u001b[0m 8ms/step - accuracy: 0.9239 - loss: 1.0126\n",
            "Epoch 32/100\n",
            "\u001b[1m32/32\u001b[0m \u001b[32m━━━━━━━━━━━━━━━━━━━━\u001b[0m\u001b[37m\u001b[0m \u001b[1m0s\u001b[0m 8ms/step - accuracy: 0.9394 - loss: 0.9190\n",
            "Epoch 33/100\n",
            "\u001b[1m32/32\u001b[0m \u001b[32m━━━━━━━━━━━━━━━━━━━━\u001b[0m\u001b[37m\u001b[0m \u001b[1m0s\u001b[0m 8ms/step - accuracy: 0.9571 - loss: 0.8697\n",
            "Epoch 34/100\n",
            "\u001b[1m32/32\u001b[0m \u001b[32m━━━━━━━━━━━━━━━━━━━━\u001b[0m\u001b[37m\u001b[0m \u001b[1m0s\u001b[0m 8ms/step - accuracy: 0.9521 - loss: 0.7791\n",
            "Epoch 35/100\n",
            "\u001b[1m32/32\u001b[0m \u001b[32m━━━━━━━━━━━━━━━━━━━━\u001b[0m\u001b[37m\u001b[0m \u001b[1m0s\u001b[0m 7ms/step - accuracy: 0.9666 - loss: 0.7517\n",
            "Epoch 36/100\n",
            "\u001b[1m32/32\u001b[0m \u001b[32m━━━━━━━━━━━━━━━━━━━━\u001b[0m\u001b[37m\u001b[0m \u001b[1m0s\u001b[0m 8ms/step - accuracy: 0.9743 - loss: 0.6834\n",
            "Epoch 37/100\n",
            "\u001b[1m32/32\u001b[0m \u001b[32m━━━━━━━━━━━━━━━━━━━━\u001b[0m\u001b[37m\u001b[0m \u001b[1m0s\u001b[0m 8ms/step - accuracy: 0.9809 - loss: 0.6019\n",
            "Epoch 38/100\n",
            "\u001b[1m32/32\u001b[0m \u001b[32m━━━━━━━━━━━━━━━━━━━━\u001b[0m\u001b[37m\u001b[0m \u001b[1m0s\u001b[0m 8ms/step - accuracy: 0.9711 - loss: 0.5822\n",
            "Epoch 39/100\n",
            "\u001b[1m32/32\u001b[0m \u001b[32m━━━━━━━━━━━━━━━━━━━━\u001b[0m\u001b[37m\u001b[0m \u001b[1m0s\u001b[0m 7ms/step - accuracy: 0.9778 - loss: 0.5354\n",
            "Epoch 40/100\n",
            "\u001b[1m32/32\u001b[0m \u001b[32m━━━━━━━━━━━━━━━━━━━━\u001b[0m\u001b[37m\u001b[0m \u001b[1m0s\u001b[0m 8ms/step - accuracy: 0.9821 - loss: 0.4777\n",
            "Epoch 41/100\n",
            "\u001b[1m32/32\u001b[0m \u001b[32m━━━━━━━━━━━━━━━━━━━━\u001b[0m\u001b[37m\u001b[0m \u001b[1m0s\u001b[0m 7ms/step - accuracy: 0.9915 - loss: 0.4607\n",
            "Epoch 42/100\n",
            "\u001b[1m32/32\u001b[0m \u001b[32m━━━━━━━━━━━━━━━━━━━━\u001b[0m\u001b[37m\u001b[0m \u001b[1m0s\u001b[0m 8ms/step - accuracy: 0.9901 - loss: 0.4062\n",
            "Epoch 43/100\n",
            "\u001b[1m32/32\u001b[0m \u001b[32m━━━━━━━━━━━━━━━━━━━━\u001b[0m\u001b[37m\u001b[0m \u001b[1m0s\u001b[0m 7ms/step - accuracy: 0.9917 - loss: 0.3866\n",
            "Epoch 44/100\n",
            "\u001b[1m32/32\u001b[0m \u001b[32m━━━━━━━━━━━━━━━━━━━━\u001b[0m\u001b[37m\u001b[0m \u001b[1m0s\u001b[0m 8ms/step - accuracy: 0.9922 - loss: 0.3635\n",
            "Epoch 45/100\n",
            "\u001b[1m32/32\u001b[0m \u001b[32m━━━━━━━━━━━━━━━━━━━━\u001b[0m\u001b[37m\u001b[0m \u001b[1m0s\u001b[0m 8ms/step - accuracy: 0.9908 - loss: 0.3545\n",
            "Epoch 46/100\n",
            "\u001b[1m32/32\u001b[0m \u001b[32m━━━━━━━━━━━━━━━━━━━━\u001b[0m\u001b[37m\u001b[0m \u001b[1m0s\u001b[0m 9ms/step - accuracy: 0.9957 - loss: 0.3197\n",
            "Epoch 47/100\n",
            "\u001b[1m32/32\u001b[0m \u001b[32m━━━━━━━━━━━━━━━━━━━━\u001b[0m\u001b[37m\u001b[0m \u001b[1m0s\u001b[0m 11ms/step - accuracy: 0.9954 - loss: 0.2998\n",
            "Epoch 48/100\n",
            "\u001b[1m32/32\u001b[0m \u001b[32m━━━━━━━━━━━━━━━━━━━━\u001b[0m\u001b[37m\u001b[0m \u001b[1m0s\u001b[0m 11ms/step - accuracy: 0.9954 - loss: 0.2733\n",
            "Epoch 49/100\n",
            "\u001b[1m32/32\u001b[0m \u001b[32m━━━━━━━━━━━━━━━━━━━━\u001b[0m\u001b[37m\u001b[0m \u001b[1m0s\u001b[0m 10ms/step - accuracy: 0.9944 - loss: 0.2709\n",
            "Epoch 50/100\n",
            "\u001b[1m32/32\u001b[0m \u001b[32m━━━━━━━━━━━━━━━━━━━━\u001b[0m\u001b[37m\u001b[0m \u001b[1m0s\u001b[0m 10ms/step - accuracy: 0.9945 - loss: 0.2479\n",
            "Epoch 51/100\n",
            "\u001b[1m32/32\u001b[0m \u001b[32m━━━━━━━━━━━━━━━━━━━━\u001b[0m\u001b[37m\u001b[0m \u001b[1m1s\u001b[0m 10ms/step - accuracy: 0.9953 - loss: 0.2328\n",
            "Epoch 52/100\n",
            "\u001b[1m32/32\u001b[0m \u001b[32m━━━━━━━━━━━━━━━━━━━━\u001b[0m\u001b[37m\u001b[0m \u001b[1m1s\u001b[0m 8ms/step - accuracy: 0.9971 - loss: 0.2280\n",
            "Epoch 53/100\n",
            "\u001b[1m32/32\u001b[0m \u001b[32m━━━━━━━━━━━━━━━━━━━━\u001b[0m\u001b[37m\u001b[0m \u001b[1m0s\u001b[0m 8ms/step - accuracy: 0.9950 - loss: 0.2034\n",
            "Epoch 54/100\n",
            "\u001b[1m32/32\u001b[0m \u001b[32m━━━━━━━━━━━━━━━━━━━━\u001b[0m\u001b[37m\u001b[0m \u001b[1m0s\u001b[0m 8ms/step - accuracy: 0.9961 - loss: 0.1930\n",
            "Epoch 55/100\n",
            "\u001b[1m32/32\u001b[0m \u001b[32m━━━━━━━━━━━━━━━━━━━━\u001b[0m\u001b[37m\u001b[0m \u001b[1m0s\u001b[0m 7ms/step - accuracy: 0.9983 - loss: 0.1828\n",
            "Epoch 56/100\n",
            "\u001b[1m32/32\u001b[0m \u001b[32m━━━━━━━━━━━━━━━━━━━━\u001b[0m\u001b[37m\u001b[0m \u001b[1m0s\u001b[0m 8ms/step - accuracy: 0.9981 - loss: 0.1751\n",
            "Epoch 57/100\n",
            "\u001b[1m32/32\u001b[0m \u001b[32m━━━━━━━━━━━━━━━━━━━━\u001b[0m\u001b[37m\u001b[0m \u001b[1m0s\u001b[0m 7ms/step - accuracy: 0.9951 - loss: 0.1647\n",
            "Epoch 58/100\n",
            "\u001b[1m32/32\u001b[0m \u001b[32m━━━━━━━━━━━━━━━━━━━━\u001b[0m\u001b[37m\u001b[0m \u001b[1m0s\u001b[0m 7ms/step - accuracy: 0.9967 - loss: 0.1587\n",
            "Epoch 59/100\n",
            "\u001b[1m32/32\u001b[0m \u001b[32m━━━━━━━━━━━━━━━━━━━━\u001b[0m\u001b[37m\u001b[0m \u001b[1m0s\u001b[0m 7ms/step - accuracy: 0.9965 - loss: 0.1544\n",
            "Epoch 60/100\n",
            "\u001b[1m32/32\u001b[0m \u001b[32m━━━━━━━━━━━━━━━━━━━━\u001b[0m\u001b[37m\u001b[0m \u001b[1m0s\u001b[0m 8ms/step - accuracy: 0.9925 - loss: 0.1441\n",
            "Epoch 61/100\n",
            "\u001b[1m32/32\u001b[0m \u001b[32m━━━━━━━━━━━━━━━━━━━━\u001b[0m\u001b[37m\u001b[0m \u001b[1m0s\u001b[0m 7ms/step - accuracy: 0.9985 - loss: 0.1353\n",
            "Epoch 62/100\n",
            "\u001b[1m32/32\u001b[0m \u001b[32m━━━━━━━━━━━━━━━━━━━━\u001b[0m\u001b[37m\u001b[0m \u001b[1m0s\u001b[0m 7ms/step - accuracy: 0.9963 - loss: 0.1349\n",
            "Epoch 63/100\n",
            "\u001b[1m32/32\u001b[0m \u001b[32m━━━━━━━━━━━━━━━━━━━━\u001b[0m\u001b[37m\u001b[0m \u001b[1m0s\u001b[0m 7ms/step - accuracy: 0.9967 - loss: 0.1188\n",
            "Epoch 64/100\n",
            "\u001b[1m32/32\u001b[0m \u001b[32m━━━━━━━━━━━━━━━━━━━━\u001b[0m\u001b[37m\u001b[0m \u001b[1m0s\u001b[0m 8ms/step - accuracy: 0.9991 - loss: 0.1154\n",
            "Epoch 65/100\n",
            "\u001b[1m32/32\u001b[0m \u001b[32m━━━━━━━━━━━━━━━━━━━━\u001b[0m\u001b[37m\u001b[0m \u001b[1m0s\u001b[0m 7ms/step - accuracy: 0.9950 - loss: 0.1192\n",
            "Epoch 66/100\n",
            "\u001b[1m32/32\u001b[0m \u001b[32m━━━━━━━━━━━━━━━━━━━━\u001b[0m\u001b[37m\u001b[0m \u001b[1m0s\u001b[0m 7ms/step - accuracy: 0.9990 - loss: 0.1042\n",
            "Epoch 67/100\n",
            "\u001b[1m32/32\u001b[0m \u001b[32m━━━━━━━━━━━━━━━━━━━━\u001b[0m\u001b[37m\u001b[0m \u001b[1m0s\u001b[0m 8ms/step - accuracy: 0.9951 - loss: 0.1061\n",
            "Epoch 68/100\n",
            "\u001b[1m32/32\u001b[0m \u001b[32m━━━━━━━━━━━━━━━━━━━━\u001b[0m\u001b[37m\u001b[0m \u001b[1m0s\u001b[0m 7ms/step - accuracy: 0.9971 - loss: 0.1007\n",
            "Epoch 69/100\n",
            "\u001b[1m32/32\u001b[0m \u001b[32m━━━━━━━━━━━━━━━━━━━━\u001b[0m\u001b[37m\u001b[0m \u001b[1m0s\u001b[0m 7ms/step - accuracy: 0.9980 - loss: 0.0922\n",
            "Epoch 70/100\n",
            "\u001b[1m32/32\u001b[0m \u001b[32m━━━━━━━━━━━━━━━━━━━━\u001b[0m\u001b[37m\u001b[0m \u001b[1m0s\u001b[0m 7ms/step - accuracy: 0.9944 - loss: 0.0937\n",
            "Epoch 71/100\n",
            "\u001b[1m32/32\u001b[0m \u001b[32m━━━━━━━━━━━━━━━━━━━━\u001b[0m\u001b[37m\u001b[0m \u001b[1m0s\u001b[0m 8ms/step - accuracy: 0.9950 - loss: 0.0936\n",
            "Epoch 72/100\n",
            "\u001b[1m32/32\u001b[0m \u001b[32m━━━━━━━━━━━━━━━━━━━━\u001b[0m\u001b[37m\u001b[0m \u001b[1m0s\u001b[0m 7ms/step - accuracy: 0.9955 - loss: 0.0877\n",
            "Epoch 73/100\n",
            "\u001b[1m32/32\u001b[0m \u001b[32m━━━━━━━━━━━━━━━━━━━━\u001b[0m\u001b[37m\u001b[0m \u001b[1m0s\u001b[0m 8ms/step - accuracy: 0.9930 - loss: 0.0868\n",
            "Epoch 74/100\n",
            "\u001b[1m32/32\u001b[0m \u001b[32m━━━━━━━━━━━━━━━━━━━━\u001b[0m\u001b[37m\u001b[0m \u001b[1m0s\u001b[0m 7ms/step - accuracy: 0.9970 - loss: 0.0802\n",
            "Epoch 75/100\n",
            "\u001b[1m32/32\u001b[0m \u001b[32m━━━━━━━━━━━━━━━━━━━━\u001b[0m\u001b[37m\u001b[0m \u001b[1m0s\u001b[0m 8ms/step - accuracy: 0.9986 - loss: 0.0743\n",
            "Epoch 76/100\n",
            "\u001b[1m32/32\u001b[0m \u001b[32m━━━━━━━━━━━━━━━━━━━━\u001b[0m\u001b[37m\u001b[0m \u001b[1m0s\u001b[0m 7ms/step - accuracy: 0.9991 - loss: 0.0744\n",
            "Epoch 77/100\n",
            "\u001b[1m32/32\u001b[0m \u001b[32m━━━━━━━━━━━━━━━━━━━━\u001b[0m\u001b[37m\u001b[0m \u001b[1m0s\u001b[0m 7ms/step - accuracy: 0.9934 - loss: 0.0730\n",
            "Epoch 78/100\n",
            "\u001b[1m32/32\u001b[0m \u001b[32m━━━━━━━━━━━━━━━━━━━━\u001b[0m\u001b[37m\u001b[0m \u001b[1m0s\u001b[0m 7ms/step - accuracy: 0.9966 - loss: 0.0695\n",
            "Epoch 79/100\n",
            "\u001b[1m32/32\u001b[0m \u001b[32m━━━━━━━━━━━━━━━━━━━━\u001b[0m\u001b[37m\u001b[0m \u001b[1m0s\u001b[0m 7ms/step - accuracy: 0.9971 - loss: 0.0668\n",
            "Epoch 80/100\n",
            "\u001b[1m32/32\u001b[0m \u001b[32m━━━━━━━━━━━━━━━━━━━━\u001b[0m\u001b[37m\u001b[0m \u001b[1m0s\u001b[0m 8ms/step - accuracy: 0.9972 - loss: 0.0598\n",
            "Epoch 81/100\n",
            "\u001b[1m32/32\u001b[0m \u001b[32m━━━━━━━━━━━━━━━━━━━━\u001b[0m\u001b[37m\u001b[0m \u001b[1m0s\u001b[0m 8ms/step - accuracy: 0.9939 - loss: 0.0644\n",
            "Epoch 82/100\n",
            "\u001b[1m32/32\u001b[0m \u001b[32m━━━━━━━━━━━━━━━━━━━━\u001b[0m\u001b[37m\u001b[0m \u001b[1m0s\u001b[0m 8ms/step - accuracy: 0.9975 - loss: 0.0587\n",
            "Epoch 83/100\n",
            "\u001b[1m32/32\u001b[0m \u001b[32m━━━━━━━━━━━━━━━━━━━━\u001b[0m\u001b[37m\u001b[0m \u001b[1m0s\u001b[0m 7ms/step - accuracy: 0.9977 - loss: 0.0565\n",
            "Epoch 84/100\n",
            "\u001b[1m32/32\u001b[0m \u001b[32m━━━━━━━━━━━━━━━━━━━━\u001b[0m\u001b[37m\u001b[0m \u001b[1m0s\u001b[0m 7ms/step - accuracy: 0.9988 - loss: 0.0539\n",
            "Epoch 85/100\n",
            "\u001b[1m32/32\u001b[0m \u001b[32m━━━━━━━━━━━━━━━━━━━━\u001b[0m\u001b[37m\u001b[0m \u001b[1m0s\u001b[0m 8ms/step - accuracy: 0.9954 - loss: 0.0543\n",
            "Epoch 86/100\n",
            "\u001b[1m32/32\u001b[0m \u001b[32m━━━━━━━━━━━━━━━━━━━━\u001b[0m\u001b[37m\u001b[0m \u001b[1m0s\u001b[0m 11ms/step - accuracy: 0.9960 - loss: 0.0532\n",
            "Epoch 87/100\n",
            "\u001b[1m32/32\u001b[0m \u001b[32m━━━━━━━━━━━━━━━━━━━━\u001b[0m\u001b[37m\u001b[0m \u001b[1m1s\u001b[0m 11ms/step - accuracy: 0.9971 - loss: 0.0506\n",
            "Epoch 88/100\n",
            "\u001b[1m32/32\u001b[0m \u001b[32m━━━━━━━━━━━━━━━━━━━━\u001b[0m\u001b[37m\u001b[0m \u001b[1m0s\u001b[0m 11ms/step - accuracy: 0.9993 - loss: 0.0468\n",
            "Epoch 89/100\n",
            "\u001b[1m32/32\u001b[0m \u001b[32m━━━━━━━━━━━━━━━━━━━━\u001b[0m\u001b[37m\u001b[0m \u001b[1m0s\u001b[0m 11ms/step - accuracy: 0.9986 - loss: 0.0478\n",
            "Epoch 90/100\n",
            "\u001b[1m32/32\u001b[0m \u001b[32m━━━━━━━━━━━━━━━━━━━━\u001b[0m\u001b[37m\u001b[0m \u001b[1m1s\u001b[0m 8ms/step - accuracy: 0.9966 - loss: 0.0466\n",
            "Epoch 91/100\n",
            "\u001b[1m32/32\u001b[0m \u001b[32m━━━━━━━━━━━━━━━━━━━━\u001b[0m\u001b[37m\u001b[0m \u001b[1m0s\u001b[0m 8ms/step - accuracy: 0.9977 - loss: 0.0438\n",
            "Epoch 92/100\n",
            "\u001b[1m32/32\u001b[0m \u001b[32m━━━━━━━━━━━━━━━━━━━━\u001b[0m\u001b[37m\u001b[0m \u001b[1m0s\u001b[0m 7ms/step - accuracy: 0.9983 - loss: 0.0452\n",
            "Epoch 93/100\n",
            "\u001b[1m32/32\u001b[0m \u001b[32m━━━━━━━━━━━━━━━━━━━━\u001b[0m\u001b[37m\u001b[0m \u001b[1m0s\u001b[0m 8ms/step - accuracy: 0.9940 - loss: 0.0445\n",
            "Epoch 94/100\n",
            "\u001b[1m32/32\u001b[0m \u001b[32m━━━━━━━━━━━━━━━━━━━━\u001b[0m\u001b[37m\u001b[0m \u001b[1m0s\u001b[0m 8ms/step - accuracy: 0.9952 - loss: 0.0442\n",
            "Epoch 95/100\n",
            "\u001b[1m32/32\u001b[0m \u001b[32m━━━━━━━━━━━━━━━━━━━━\u001b[0m\u001b[37m\u001b[0m \u001b[1m0s\u001b[0m 7ms/step - accuracy: 0.9904 - loss: 0.0488\n",
            "Epoch 96/100\n",
            "\u001b[1m32/32\u001b[0m \u001b[32m━━━━━━━━━━━━━━━━━━━━\u001b[0m\u001b[37m\u001b[0m \u001b[1m0s\u001b[0m 7ms/step - accuracy: 0.9950 - loss: 0.0406\n",
            "Epoch 97/100\n",
            "\u001b[1m32/32\u001b[0m \u001b[32m━━━━━━━━━━━━━━━━━━━━\u001b[0m\u001b[37m\u001b[0m \u001b[1m0s\u001b[0m 8ms/step - accuracy: 0.9952 - loss: 0.0400\n",
            "Epoch 98/100\n",
            "\u001b[1m32/32\u001b[0m \u001b[32m━━━━━━━━━━━━━━━━━━━━\u001b[0m\u001b[37m\u001b[0m \u001b[1m0s\u001b[0m 7ms/step - accuracy: 0.9968 - loss: 0.0401\n",
            "Epoch 99/100\n",
            "\u001b[1m32/32\u001b[0m \u001b[32m━━━━━━━━━━━━━━━━━━━━\u001b[0m\u001b[37m\u001b[0m \u001b[1m0s\u001b[0m 7ms/step - accuracy: 0.9981 - loss: 0.0364\n",
            "Epoch 100/100\n",
            "\u001b[1m32/32\u001b[0m \u001b[32m━━━━━━━━━━━━━━━━━━━━\u001b[0m\u001b[37m\u001b[0m \u001b[1m0s\u001b[0m 8ms/step - accuracy: 0.9992 - loss: 0.0340\n"
          ]
        },
        {
          "output_type": "execute_result",
          "data": {
            "text/plain": [
              "<keras.src.callbacks.history.History at 0x78b5cb08e590>"
            ]
          },
          "metadata": {},
          "execution_count": 30
        }
      ]
    },
    {
      "cell_type": "code",
      "source": [
        "text=\"virat kohli\"\n",
        "token_text=tokenizer.texts_to_sequences([text])[0]\n",
        "print(\"token_text =\",token_text)\n",
        "padded_token_text=pad_sequences([token_text],padding='pre',maxlen=77)\n",
        "print('padded_token_text',padded_token_text)\n",
        "pos=np.argmax(model.predict(padded_token_text))\n",
        "for word,index in tokenizer.word_index.items():\n",
        "  if index==pos:\n",
        "    print(\"answer = \",word)"
      ],
      "metadata": {
        "colab": {
          "base_uri": "https://localhost:8080/"
        },
        "id": "B1aUbMdetd5N",
        "outputId": "e1ece6ea-0a62-48f4-c46f-e1162d0561b8"
      },
      "execution_count": null,
      "outputs": [
        {
          "output_type": "stream",
          "name": "stdout",
          "text": [
            "token_text = [31, 26]\n",
            "padded_token_text [[ 0  0  0  0  0  0  0  0  0  0  0  0  0  0  0  0  0  0  0  0  0  0  0  0\n",
            "   0  0  0  0  0  0  0  0  0  0  0  0  0  0  0  0  0  0  0  0  0  0  0  0\n",
            "   0  0  0  0  0  0  0  0  0  0  0  0  0  0  0  0  0  0  0  0  0  0  0  0\n",
            "   0  0  0 31 26]]\n",
            "\u001b[1m1/1\u001b[0m \u001b[32m━━━━━━━━━━━━━━━━━━━━\u001b[0m\u001b[37m\u001b[0m \u001b[1m0s\u001b[0m 193ms/step\n",
            "answer =  is\n"
          ]
        }
      ]
    },
    {
      "cell_type": "code",
      "source": [
        "import time\n",
        "text=\"virat kohli\"\n",
        "for i in range(5):\n",
        "  token_text=tokenizer.texts_to_sequences([text])[0]\n",
        "  padded_token_text=pad_sequences([token_text],padding='pre',maxlen=77)\n",
        "  pos=np.argmax(model.predict(padded_token_text))\n",
        "  for word,index in tokenizer.word_index.items():\n",
        "    if index==pos:\n",
        "      text=text+\" \"+word\n",
        "      print(\"answer = \",text)\n",
        "      time.sleep(2)"
      ],
      "metadata": {
        "colab": {
          "base_uri": "https://localhost:8080/"
        },
        "id": "tpfU-oO5uoHl",
        "outputId": "dfe95af9-d7fd-473b-91d8-772c491ba8c0"
      },
      "execution_count": null,
      "outputs": [
        {
          "output_type": "stream",
          "name": "stdout",
          "text": [
            "\u001b[1m1/1\u001b[0m \u001b[32m━━━━━━━━━━━━━━━━━━━━\u001b[0m\u001b[37m\u001b[0m \u001b[1m0s\u001b[0m 34ms/step\n",
            "answer =  virat kohli is\n",
            "\u001b[1m1/1\u001b[0m \u001b[32m━━━━━━━━━━━━━━━━━━━━\u001b[0m\u001b[37m\u001b[0m \u001b[1m0s\u001b[0m 33ms/step\n",
            "answer =  virat kohli is among\n",
            "\u001b[1m1/1\u001b[0m \u001b[32m━━━━━━━━━━━━━━━━━━━━\u001b[0m\u001b[37m\u001b[0m \u001b[1m0s\u001b[0m 30ms/step\n",
            "answer =  virat kohli is among the\n",
            "\u001b[1m1/1\u001b[0m \u001b[32m━━━━━━━━━━━━━━━━━━━━\u001b[0m\u001b[37m\u001b[0m \u001b[1m0s\u001b[0m 43ms/step\n",
            "answer =  virat kohli is among the greatest\n",
            "\u001b[1m1/1\u001b[0m \u001b[32m━━━━━━━━━━━━━━━━━━━━\u001b[0m\u001b[37m\u001b[0m \u001b[1m0s\u001b[0m 30ms/step\n",
            "answer =  virat kohli is among the greatest batsmen\n"
          ]
        }
      ]
    },
    {
      "cell_type": "code",
      "source": [
        "import time\n",
        "text=\"Where can I\"\n",
        "for i in range(10):\n",
        "  token_text=tokenizer.texts_to_sequences([text])[0]\n",
        "  padded_token_text=pad_sequences([token_text],padding='pre',maxlen=56)\n",
        "  pos=np.argmax(model.predict(padded_token_text))\n",
        "  for word,index in tokenizer.word_index.items():\n",
        "    if index==pos:\n",
        "      text=text+\" \"+word\n",
        "      print(\"answer = \",text)"
      ],
      "metadata": {
        "id": "l6rb7BcFxa8J"
      },
      "execution_count": null,
      "outputs": []
    },
    {
      "cell_type": "code",
      "source": [],
      "metadata": {
        "id": "rPZci6wWx7Pn"
      },
      "execution_count": null,
      "outputs": []
    },
    {
      "cell_type": "code",
      "source": [
        "# model1=Sequential()\n",
        "# model1.add(Embedding(len(tokenizer.word_index)+1,100)) #input_length=56 and input_dim=313\n",
        "# model1.add(LSTM(150))\n",
        "# model1.add(Dense(313,activation='softmax'))\n",
        "# model1.build(input_shape=(None, 56))  # Manually define batch size and sequence length\n",
        "# model1.summary()\n",
        "# model.compile(loss='categorical_crossentropy',optimizer='adam',metrics=['accuracy'])\n",
        "# model.fit(X,Y,epochs=100)"
      ],
      "metadata": {
        "id": "wEZGB4jNyHtD"
      },
      "execution_count": null,
      "outputs": []
    },
    {
      "cell_type": "code",
      "source": [
        "text=\"What if I miss\"\n",
        "for i in range(5):\n",
        "  token_text=tokenizer.texts_to_sequences([text])[0]\n",
        "  padded_token_text=pad_sequences([token_text],padding='pre',maxlen=56)\n",
        "  pos=np.argmax(model.predict(padded_token_text))\n",
        "  for word,index in tokenizer.word_index.items():\n",
        "    if index==pos:\n",
        "      text=text+\" \"+word\n",
        "      print(\"answer = \",text)"
      ],
      "metadata": {
        "id": "UHMAcUuOzqg3"
      },
      "execution_count": null,
      "outputs": []
    },
    {
      "cell_type": "code",
      "source": [
        "model.save('word_predictor.h5')"
      ],
      "metadata": {
        "id": "NY6gsoJKz1_a",
        "colab": {
          "base_uri": "https://localhost:8080/"
        },
        "outputId": "78d6e5c4-5604-45f2-8eab-b46ee01d3fd0"
      },
      "execution_count": null,
      "outputs": [
        {
          "output_type": "stream",
          "name": "stderr",
          "text": [
            "WARNING:absl:You are saving your model as an HDF5 file via `model.save()` or `keras.saving.save_model(model)`. This file format is considered legacy. We recommend using instead the native Keras format, e.g. `model.save('my_model.keras')` or `keras.saving.save_model(model, 'my_model.keras')`. \n"
          ]
        }
      ]
    },
    {
      "cell_type": "code",
      "source": [
        "import streamlit as st\n",
        "import numpy as np\n",
        "from tensorflow.keras.preprocessing.sequence import pad_sequences\n",
        "from tensorflow.keras.preprocessing.text import Tokenizer\n",
        "\n",
        "# Sample large paragraph\n",
        "paragraph = \"\"\"\n",
        "The Indian men's cricket team is one of the most successful and followed teams in the world. Over the decades, India has produced some of the finest cricketers to ever play the game — legends like Sachin Tendulkar, MS Dhoni, Rahul Dravid, Virender Sehwag, Anil Kumble, and now modern-day stars like Virat Kohli, Rohit Sharma, Jasprit Bumrah, and Shubman Gill.\n",
        "\n",
        "Virat Kohli is among the greatest batsmen of the 21st century. Known for his aggressive approach, fitness, and chase mastery, Kohli has won numerous matches for India across all formats. He has over 25,000 international runs and is the fastest to many milestones. One of his iconic innings came during the 2022 T20 World Cup against Pakistan, where he scored a memorable unbeaten 82* at the Melbourne Cricket Ground, leading India to a miraculous last-ball victory.\n",
        "\n",
        "Rohit Sharma, the current captain of the Indian team in all formats, is admired for his elegant stroke play and calm leadership. He holds the world record for the highest individual score in ODI cricket — a stunning 264 runs. Rohit has scored three double centuries in ODIs, more than any other player in history. As captain of Mumbai Indians in the IPL, he led the franchise to five titles.\n",
        "\n",
        "Jasprit Bumrah, India's fast-bowling spearhead, is known for his lethal yorkers, control, and temperament in pressure situations. His unorthodox action and ability to bowl in the death overs make him one of the top bowlers in the world. He played a key role in India’s Test series win in Australia in 2020-21 and has delivered in World Cups and IPL alike.\n",
        "\n",
        "Ravindra Jadeja, one of the world’s finest all-rounders, contributes with bat, ball, and especially in the field. His bullet throws, sharp reflexes, and ability to take wickets and hit quick runs make him a complete package. In the 2019 World Cup semifinal against New Zealand, he scored 77 and almost pulled off a thrilling win.\n",
        "\n",
        "Shubman Gill is a stylish young opener who has cemented his place in the Indian team. His backfoot punches and calm demeanor have drawn comparisons to Rahul Dravid and Virat Kohli. In 2023, Gill scored a double century against New Zealand, becoming the youngest Indian to do so in ODIs. He followed it up with centuries in Tests and T20s, proving his all-format capability.\n",
        "\n",
        "KL Rahul is a technically sound batsman who also serves as a wicketkeeper. His versatility allows him to bat anywhere in the top or middle order. In the 2023 Asia Cup final, he returned from injury and scored a fluent 111*, guiding India to a title win. His ability to anchor innings and accelerate later makes him vital in ODIs and T20s.\n",
        "\n",
        "Hardik Pandya is a hard-hitting all-rounder known for his explosive batting and useful fast bowling. He has won many close matches with his six-hitting ability, like the 2022 match against England where he scored 71 and took 4 wickets. As captain of Gujarat Titans, he led them to the IPL trophy in their debut season.\n",
        "\n",
        "Mohammed Siraj emerged as a dependable pacer. His 6/21 spell in the Asia Cup 2023 final dismantled Sri Lanka, earning him the Player of the Match award. His journey from humble beginnings to becoming a key bowler in India's lineup is an inspiring story of perseverance.\n",
        "\n",
        "Kuldeep Yadav, the left-arm wrist-spinner, brings variety and mystery. He has taken multiple five-wicket hauls and two international hat-tricks. In the 2023 World Cup, he was India's highest wicket-taker with his deceptive spin.\n",
        "\n",
        "Rishabh Pant is known for his fearless cricket and unorthodox stroke play. His match-winning knock of 89* in Brisbane in 2021 helped India win the Test series in Australia against all odds. After recovering from a major accident, Pant returned stronger and continues to be a fan favorite.\n",
        "\n",
        "Suryakumar Yadav, nicknamed SKY, has redefined T20 batting with his 360-degree strokeplay. His innings of 102 off 49 balls against South Africa in 2022 was hailed as one of the greatest T20 innings of all time. He is currently ranked among the top T20 batsmen globally.\n",
        "\n",
        "India’s rich cricketing history includes epic wins such as the 1983 and 2011 ODI World Cup victories, the 2007 T20 World Cup triumph, and back-to-back Test series wins in Australia. The team has also won multiple Asia Cups and Champions Trophies.\n",
        "\n",
        "India’s bench strength is a major asset. Players like Ishan Kishan, Sanju Samson, Ruturaj Gaikwad, Arshdeep Singh, Washington Sundar, and Prithvi Shaw are waiting for their chances and have proven their worth in IPL and India A matches.\n",
        "\n",
        "Dravid, now the head coach, emphasizes discipline, technique, and long-term planning. Under his guidance, India focuses on grooming young talent, rotating players to manage workload, and maintaining high fitness levels.\n",
        "\n",
        "The Indian cricket team also focuses heavily on fielding, fitness, and mental conditioning. Virat Kohli set the benchmark for fitness in Indian cricket, inspiring younger players to improve their strength and agility. Jadeja and Suryakumar are considered among the best fielders in the world.\n",
        "\n",
        "Strategically, India uses data analysis, match simulations, and pitch-specific planning. The BCCI has invested in state-of-the-art training facilities and high-performance centers. Players work closely with batting and bowling coaches, mental conditioning experts, and physiotherapists.\n",
        "\n",
        "India's rivalry with Pakistan continues to be the most-watched and intense clash in world cricket. Matches between the two nations often draw over a billion viewers. In the 2022 T20 World Cup match at the MCG, over 90,000 fans witnessed a last-over thriller that India won.\n",
        "\n",
        "India is preparing for future ICC tournaments including the 2025 Champions Trophy, the 2026 T20 World Cup, and the 2027 ODI World Cup. The goal is to dominate all three formats and finally win an ICC title after over a decade.\n",
        "\n",
        "The Indian men’s cricket team is more than just a sports team — it's a symbol of national pride, unity, and ambition. With a perfect blend of youth and experience, strategy and aggression, skill and spirit, India is ready to scale new heights in world cricket.\"\"\"\n",
        "\n",
        "tokenizer = Tokenizer()\n",
        "tokenizer.fit_on_texts([paragraph])\n",
        "\n",
        "def fake_model_predict(padded_seq):\n",
        "    all_words = tokenizer.word_index\n",
        "    for word, idx in sorted(all_words.items(), key=lambda x: x[1]):\n",
        "        if idx not in padded_seq[0]:\n",
        "            return idx\n",
        "    return 1  # fallback\n",
        "\n",
        "# Streamlit App\n",
        "st.title(\"Next Word Predictor\")\n",
        "st.markdown(\"### Scrollable Paragraph Reference\")\n",
        "st.text_area(\"Reference Paragraph:\", paragraph, height=170)\n",
        "\n",
        "user_input = st.text_input(\"Enter starting text (e.g., virat kohli)\", value=\"virat kohli\")\n",
        "num_words = st.slider(\"How many words to predict?\", 1, 10, 5)\n",
        "\n",
        "if st.button(\"Predict Next Words\"):\n",
        "    text = user_input\n",
        "    for i in range(num_words):\n",
        "        token_text = tokenizer.texts_to_sequences([text])[0]\n",
        "        padded_token_text = pad_sequences([token_text], padding='pre', maxlen=77)\n",
        "\n",
        "        # Simulate model prediction\n",
        "        pos = fake_model_predict(padded_token_text)\n",
        "\n",
        "        # Find word by index\n",
        "        next_word = None\n",
        "        for word, index in tokenizer.word_index.items():\n",
        "            if index == pos:\n",
        "                next_word = word\n",
        "                break\n",
        "\n",
        "        if next_word:\n",
        "            text += \" \" + next_word\n",
        "        else:\n",
        "            break  # no further word found\n",
        "\n",
        "    st.success(\"**Predicted Sentence:**\")\n",
        "    st.write(text)\n",
        "\n",
        "\n"
      ],
      "metadata": {
        "id": "iO3T26bQonSg"
      },
      "execution_count": null,
      "outputs": []
    },
    {
      "cell_type": "code",
      "source": [],
      "metadata": {
        "id": "pRGSpcPRGfCf"
      },
      "execution_count": null,
      "outputs": []
    }
  ]
}